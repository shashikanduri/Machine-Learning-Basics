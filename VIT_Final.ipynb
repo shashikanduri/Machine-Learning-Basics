{
  "nbformat": 4,
  "nbformat_minor": 0,
  "metadata": {
    "colab": {
      "provenance": []
    },
    "kernelspec": {
      "name": "python3",
      "display_name": "Python 3"
    },
    "language_info": {
      "name": "python"
    }
  },
  "cells": [
    {
      "cell_type": "markdown",
      "metadata": {
        "id": "tPqfL8ACnJG7"
      },
      "source": [
        "## Vison Transformer (ViT) model Implementation\n",
        "\n",
        "#### This model converts the input image into 16x16 patches to be feeded to the encoder block"
      ]
    },
    {
      "cell_type": "markdown",
      "metadata": {
        "id": "r4exQ9EGaZL7"
      },
      "source": [
        "#### Convert to rgb images for vit model as it is trained predominantly on color images"
      ]
    },
    {
      "cell_type": "code",
      "execution_count": null,
      "metadata": {
        "id": "v_0hahsxdinj"
      },
      "outputs": [],
      "source": [
        "grayscale_tensors = tf.convert_to_tensor(image_arrays)\n",
        "rgb_images = tf.image.grayscale_to_rgb(grayscale_tensors)\n",
        "rgb_images = np.array(rgb_images).astype(np.uint8)"
      ]
    },
    {
      "cell_type": "code",
      "execution_count": null,
      "metadata": {
        "id": "M7IXFVvKnJG6",
        "colab": {
          "base_uri": "https://localhost:8080/"
        },
        "outputId": "1b332c11-04c0-48ff-d2e8-d45a44f9024c"
      },
      "outputs": [
        {
          "output_type": "execute_result",
          "data": {
            "text/plain": [
              "array([[[0, 0, 0],\n",
              "        [0, 0, 0],\n",
              "        [0, 0, 0],\n",
              "        ...,\n",
              "        [0, 0, 0],\n",
              "        [0, 0, 0],\n",
              "        [0, 0, 0]],\n",
              "\n",
              "       [[0, 0, 0],\n",
              "        [0, 0, 0],\n",
              "        [0, 0, 0],\n",
              "        ...,\n",
              "        [0, 0, 0],\n",
              "        [0, 0, 0],\n",
              "        [0, 0, 0]],\n",
              "\n",
              "       [[0, 0, 0],\n",
              "        [0, 0, 0],\n",
              "        [0, 0, 0],\n",
              "        ...,\n",
              "        [0, 0, 0],\n",
              "        [0, 0, 0],\n",
              "        [0, 0, 0]],\n",
              "\n",
              "       ...,\n",
              "\n",
              "       [[0, 0, 0],\n",
              "        [0, 0, 0],\n",
              "        [0, 0, 0],\n",
              "        ...,\n",
              "        [0, 0, 0],\n",
              "        [0, 0, 0],\n",
              "        [0, 0, 0]],\n",
              "\n",
              "       [[0, 0, 0],\n",
              "        [0, 0, 0],\n",
              "        [0, 0, 0],\n",
              "        ...,\n",
              "        [0, 0, 0],\n",
              "        [0, 0, 0],\n",
              "        [0, 0, 0]],\n",
              "\n",
              "       [[0, 0, 0],\n",
              "        [0, 0, 0],\n",
              "        [0, 0, 0],\n",
              "        ...,\n",
              "        [0, 0, 0],\n",
              "        [0, 0, 0],\n",
              "        [0, 0, 0]]], dtype=uint8)"
            ]
          },
          "metadata": {},
          "execution_count": 14
        }
      ],
      "source": [
        "rgb_images[0]"
      ]
    },
    {
      "cell_type": "markdown",
      "metadata": {
        "id": "0UCqP3N8apnd"
      },
      "source": [
        "#### Split into train and test"
      ]
    },
    {
      "cell_type": "code",
      "execution_count": null,
      "metadata": {
        "id": "lp-Mw6hWnJG7"
      },
      "outputs": [],
      "source": [
        "x_train, x_test, y_train, y_test = train_test_split(rgb_images, image_classes_encoded, test_size=0.2, shuffle=True, random_state=42)"
      ]
    },
    {
      "cell_type": "markdown",
      "metadata": {
        "id": "P_JMsXddnJG8"
      },
      "source": [
        "#### Visualizing the patches for a sample image"
      ]
    },
    {
      "cell_type": "code",
      "execution_count": null,
      "metadata": {
        "id": "54mRNsfunJG7"
      },
      "outputs": [],
      "source": [
        "class Patches(L.Layer):\n",
        "    def __init__(self, patch_size):\n",
        "        super(Patches, self).__init__()\n",
        "        self.patch_size = patch_size\n",
        "\n",
        "    def call(self, images):\n",
        "        batch_size = tf.shape(images)[0]\n",
        "        patches = tf.image.extract_patches(\n",
        "            images = images,\n",
        "            sizes = [1, self.patch_size, self.patch_size, 1],\n",
        "            strides = [1, self.patch_size, self.patch_size, 1],\n",
        "            rates = [1, 1, 1, 1],\n",
        "            padding = 'VALID',\n",
        "        )\n",
        "        patch_dims = patches.shape[-1]\n",
        "        patches = tf.reshape(patches, [batch_size, -1, patch_dims])\n",
        "        return patches"
      ]
    },
    {
      "cell_type": "code",
      "execution_count": null,
      "metadata": {
        "id": "MY4Rj2kYnJG8",
        "colab": {
          "base_uri": "https://localhost:8080/",
          "height": 398
        },
        "outputId": "51eab1c7-6e2d-49ae-f3be-033089b21277"
      },
      "outputs": [
        {
          "output_type": "stream",
          "name": "stdout",
          "text": [
            "Patch size: 16 X 16\n",
            "Patches per image: 256\n",
            "Elements per patch: 768\n"
          ]
        },
        {
          "output_type": "display_data",
          "data": {
            "text/plain": [
              "<Figure size 400x400 with 256 Axes>"
            ],
            "image/png": "[encoded data removed]"
          },
          "metadata": {}
        }
      ],
      "source": [
        "resized_image = tf.image.resize(\n",
        "    tf.convert_to_tensor([rgb_images[0]]), size = (image_size, image_size)\n",
        ")\n",
        "\n",
        "patches = Patches(16)(resized_image)\n",
        "\n",
        "print(f'Patch size: {16} X {16}')\n",
        "\n",
        "print(f'Patches per image: {patches.shape[1]}')\n",
        "print(f'Elements per patch: {patches.shape[-1]}')\n",
        "\n",
        "n = int(np.sqrt(patches.shape[1]))\n",
        "plt.figure(figsize=(4, 4))\n",
        "\n",
        "for i, patch in enumerate(patches[0]):\n",
        "    ax = plt.subplot(n, n, i + 1)\n",
        "    patch_img = tf.reshape(patch, (16, 16, 3))\n",
        "    plt.imshow(patch_img.numpy().astype('uint8'))\n",
        "    plt.axis('off')"
      ]
    },
    {
      "cell_type": "markdown",
      "metadata": {
        "id": "aSmkvrX4nJG8"
      },
      "source": [
        "###  Building and evaluating ViT model"
      ]
    },
    {
      "cell_type": "code",
      "execution_count": null,
      "metadata": {
        "id": "wMkuPqfu_ZC4",
        "colab": {
          "base_uri": "https://localhost:8080/"
        },
        "outputId": "04e4a3d3-8676-4135-983b-483ee7b3dddf"
      },
      "outputs": [
        {
          "output_type": "stream",
          "name": "stdout",
          "text": [
            "Requirement already satisfied: vit_keras in /usr/local/lib/python3.10/dist-packages (0.1.2)\n",
            "Requirement already satisfied: scipy in /usr/local/lib/python3.10/dist-packages (from vit_keras) (1.11.3)\n",
            "Requirement already satisfied: validators in /usr/local/lib/python3.10/dist-packages (from vit_keras) (0.22.0)\n",
            "Requirement already satisfied: numpy<1.28.0,>=1.21.6 in /usr/local/lib/python3.10/dist-packages (from scipy->vit_keras) (1.23.5)\n"
          ]
        }
      ],
      "source": [
        "!pip install vit_keras"
      ]
    },
    {
      "cell_type": "code",
      "execution_count": null,
      "metadata": {
        "id": "FcSXekkTnJG8",
        "colab": {
          "base_uri": "https://localhost:8080/"
        },
        "outputId": "327184bc-d842-4d56-bbfe-0b86a5cbd0b3"
      },
      "outputs": [
        {
          "output_type": "stream",
          "name": "stderr",
          "text": [
            "/usr/local/lib/python3.10/dist-packages/vit_keras/utils.py:81: UserWarning: Resizing position embeddings from 24, 24 to 16, 16\n",
            "  warnings.warn(\n"
          ]
        },
        {
          "output_type": "stream",
          "name": "stdout",
          "text": [
            "Model: \"vit-b16\"\n",
            "_________________________________________________________________\n",
            " Layer (type)                Output Shape              Param #   \n",
            "=================================================================\n",
            " input_1 (InputLayer)        [(None, 256, 256, 3)]     0         \n",
            "                                                                 \n",
            " embedding (Conv2D)          (None, 16, 16, 768)       590592    \n",
            "                                                                 \n",
            " reshape (Reshape)           (None, 256, 768)          0         \n",
            "                                                                 \n",
            " class_token (ClassToken)    (None, 257, 768)          768       \n",
            "                                                                 \n",
            " Transformer/posembed_input  (None, 257, 768)          197376    \n",
            "  (AddPositionEmbs)                                              \n",
            "                                                                 \n",
            " Transformer/encoderblock_0  ((None, 257, 768),        7087872   \n",
            "  (TransformerBlock)          (None, 12, None, None)             \n",
            "                             )                                   \n",
            "                                                                 \n",
            " Transformer/encoderblock_1  ((None, 257, 768),        7087872   \n",
            "  (TransformerBlock)          (None, 12, None, None)             \n",
            "                             )                                   \n",
            "                                                                 \n",
            " Transformer/encoderblock_2  ((None, 257, 768),        7087872   \n",
            "  (TransformerBlock)          (None, 12, None, None)             \n",
            "                             )                                   \n",
            "                                                                 \n",
            " Transformer/encoderblock_3  ((None, 257, 768),        7087872   \n",
            "  (TransformerBlock)          (None, 12, None, None)             \n",
            "                             )                                   \n",
            "                                                                 \n",
            " Transformer/encoderblock_4  ((None, 257, 768),        7087872   \n",
            "  (TransformerBlock)          (None, 12, None, None)             \n",
            "                             )                                   \n",
            "                                                                 \n",
            " Transformer/encoderblock_5  ((None, 257, 768),        7087872   \n",
            "  (TransformerBlock)          (None, 12, None, None)             \n",
            "                             )                                   \n",
            "                                                                 \n",
            " Transformer/encoderblock_6  ((None, 257, 768),        7087872   \n",
            "  (TransformerBlock)          (None, 12, None, None)             \n",
            "                             )                                   \n",
            "                                                                 \n",
            " Transformer/encoderblock_7  ((None, 257, 768),        7087872   \n",
            "  (TransformerBlock)          (None, 12, None, None)             \n",
            "                             )                                   \n",
            "                                                                 \n",
            " Transformer/encoderblock_8  ((None, 257, 768),        7087872   \n",
            "  (TransformerBlock)          (None, 12, None, None)             \n",
            "                             )                                   \n",
            "                                                                 \n",
            " Transformer/encoderblock_9  ((None, 257, 768),        7087872   \n",
            "  (TransformerBlock)          (None, 12, None, None)             \n",
            "                             )                                   \n",
            "                                                                 \n",
            " Transformer/encoderblock_1  ((None, 257, 768),        7087872   \n",
            " 0 (TransformerBlock)         (None, 12, None, None)             \n",
            "                             )                                   \n",
            "                                                                 \n",
            " Transformer/encoderblock_1  ((None, 257, 768),        7087872   \n",
            " 1 (TransformerBlock)         (None, 12, None, None)             \n",
            "                             )                                   \n",
            "                                                                 \n",
            " Transformer/encoder_norm (  (None, 257, 768)          1536      \n",
            " LayerNormalization)                                             \n",
            "                                                                 \n",
            " ExtractToken (Lambda)       (None, 768)               0         \n",
            "                                                                 \n",
            "=================================================================\n",
            "Total params: 85844736 (327.47 MB)\n",
            "Trainable params: 85844736 (327.47 MB)\n",
            "Non-trainable params: 0 (0.00 Byte)\n",
            "_________________________________________________________________\n"
          ]
        }
      ],
      "source": [
        "from vit_keras import vit\n",
        "\n",
        "vit_model = vit.vit_b16(\n",
        "        image_size = (image_size, image_size),\n",
        "        activation = 'softmax',\n",
        "        pretrained = True,\n",
        "        include_top = False,\n",
        "        pretrained_top = False)\n",
        "\n",
        "vit_model.summary()"
      ]
    },
    {
      "cell_type": "code",
      "execution_count": null,
      "metadata": {
        "id": "0sK1erXenJG9",
        "colab": {
          "base_uri": "https://localhost:8080/"
        },
        "outputId": "1565f462-5c8b-4fe6-eb72-a43b03e09f19"
      },
      "outputs": [
        {
          "output_type": "stream",
          "name": "stdout",
          "text": [
            "_________________________________________________________________\n",
            " Layer (type)                Output Shape              Param #   \n",
            "=================================================================\n",
            " vit-b16 (Functional)        (None, 768)               85844736  \n",
            "                                                                 \n",
            " flatten (Flatten)           (None, 768)               0         \n",
            "                                                                 \n",
            " batch_normalization (Batch  (None, 768)               3072      \n",
            " Normalization)                                                  \n",
            "                                                                 \n",
            " dense (Dense)               (None, 128)               98432     \n",
            "                                                                 \n",
            " batch_normalization_1 (Bat  (None, 128)               512       \n",
            " chNormalization)                                                \n",
            "                                                                 \n",
            " dense_1 (Dense)             (None, 64)                8256      \n",
            "                                                                 \n",
            " dense_2 (Dense)             (None, 32)                2080      \n",
            "                                                                 \n",
            " dense_3 (Dense)             (None, 3)                 99        \n",
            "                                                                 \n",
            "=================================================================\n",
            "Total params: 85957187 (327.90 MB)\n",
            "Trainable params: 85955395 (327.89 MB)\n",
            "Non-trainable params: 1792 (7.00 KB)\n",
            "_________________________________________________________________\n"
          ]
        }
      ],
      "source": [
        "model = tf.keras.Sequential([\n",
        "        vit_model,\n",
        "        tf.keras.layers.Flatten(),\n",
        "        tf.keras.layers.BatchNormalization(),\n",
        "        tf.keras.layers.Dense(128, activation = 'relu'),\n",
        "        tf.keras.layers.BatchNormalization(),\n",
        "        tf.keras.layers.Dense(64, activation = 'relu'),\n",
        "        tf.keras.layers.Dense(32, activation = 'relu'),\n",
        "        tf.keras.layers.Dense(3, 'softmax')\n",
        "    ],\n",
        "    name = 'vision_transformer')\n",
        "\n",
        "model.summary()"
      ]
    },
    {
      "cell_type": "code",
      "execution_count": null,
      "metadata": {
        "id": "zfoh8jZP0h3z"
      },
      "outputs": [],
      "source": [
        "checkpointer = ModelCheckpoint(filepath=\"vit_model.hdf5\", verbose=2, save_best_only=True, monitor='val_loss')\n",
        "monitor = EarlyStopping(monitor='val_loss', min_delta=1e-3, patience=10, verbose=2, mode='auto')"
      ]
    },
    {
      "cell_type": "code",
      "execution_count": null,
      "metadata": {
        "id": "XspPZi-FnJG9",
        "colab": {
          "base_uri": "https://localhost:8080/"
        },
        "outputId": "479d5ba7-474e-4228-fc9c-cb30997bf7ae"
      },
      "outputs": [
        {
          "output_type": "stream",
          "name": "stdout",
          "text": [
            "Epoch 1/50\n",
            "77/77 [==============================] - ETA: 0s - loss: 1.0406 - accuracy: 0.5080\n",
            "Epoch 1: val_loss improved from inf to 0.90760, saving model to vit_model.hdf5\n"
          ]
        },
        {
          "output_type": "stream",
          "name": "stderr",
          "text": [
            "/usr/local/lib/python3.10/dist-packages/keras/src/engine/training.py:3079: UserWarning: You are saving your model as an HDF5 file via `model.save()`. This file format is considered legacy. We recommend using instead the native Keras format, e.g. `model.save('my_model.keras')`.\n",
            "  saving_api.save_model(\n"
          ]
        },
        {
          "output_type": "stream",
          "name": "stdout",
          "text": [
            "\b\b\b\b\b\b\b\b\b\b\b\b\b\b\b\b\b\b\b\b\b\b\b\b\b\b\b\b\b\b\b\b\b\b\b\b\b\b\b\b\b\b\b\b\b\b\b\b\b\b\b\b\b\b\b\b\b\b\b\b\b\b\b\b\b\b\b\b\b\b\b\b\b\b\b\b\b\b\b\b\b\b\r77/77 [==============================] - 83s 671ms/step - loss: 1.0406 - accuracy: 0.5080 - val_loss: 0.9076 - val_accuracy: 0.6787\n",
            "Epoch 2/50\n",
            "77/77 [==============================] - ETA: 0s - loss: 0.7937 - accuracy: 0.7618\n",
            "Epoch 2: val_loss improved from 0.90760 to 0.79705, saving model to vit_model.hdf5\n",
            "77/77 [==============================] - 48s 622ms/step - loss: 0.7937 - accuracy: 0.7618 - val_loss: 0.7971 - val_accuracy: 0.7574\n",
            "Epoch 3/50\n",
            "77/77 [==============================] - ETA: 0s - loss: 0.7303 - accuracy: 0.8212\n",
            "Epoch 3: val_loss improved from 0.79705 to 0.72989, saving model to vit_model.hdf5\n",
            "77/77 [==============================] - 48s 624ms/step - loss: 0.7303 - accuracy: 0.8212 - val_loss: 0.7299 - val_accuracy: 0.8311\n",
            "Epoch 4/50\n",
            "77/77 [==============================] - ETA: 0s - loss: 0.6827 - accuracy: 0.8581\n",
            "Epoch 4: val_loss improved from 0.72989 to 0.67218, saving model to vit_model.hdf5\n",
            "77/77 [==============================] - 48s 622ms/step - loss: 0.6827 - accuracy: 0.8581 - val_loss: 0.6722 - val_accuracy: 0.8689\n",
            "Epoch 5/50\n",
            "77/77 [==============================] - ETA: 0s - loss: 0.6626 - accuracy: 0.8774\n",
            "Epoch 5: val_loss improved from 0.67218 to 0.64645, saving model to vit_model.hdf5\n",
            "77/77 [==============================] - 48s 622ms/step - loss: 0.6626 - accuracy: 0.8774 - val_loss: 0.6464 - val_accuracy: 0.8984\n",
            "Epoch 6/50\n",
            "77/77 [==============================] - ETA: 0s - loss: 0.6375 - accuracy: 0.8926\n",
            "Epoch 6: val_loss did not improve from 0.64645\n",
            "77/77 [==============================] - 46s 595ms/step - loss: 0.6375 - accuracy: 0.8926 - val_loss: 0.7169 - val_accuracy: 0.8492\n",
            "Epoch 7/50\n",
            "77/77 [==============================] - ETA: 0s - loss: 0.6358 - accuracy: 0.8946\n",
            "Epoch 7: val_loss improved from 0.64645 to 0.63671, saving model to vit_model.hdf5\n",
            "77/77 [==============================] - 48s 623ms/step - loss: 0.6358 - accuracy: 0.8946 - val_loss: 0.6367 - val_accuracy: 0.8885\n",
            "Epoch 8/50\n",
            "77/77 [==============================] - ETA: 0s - loss: 0.6219 - accuracy: 0.9036\n",
            "Epoch 8: val_loss did not improve from 0.63671\n",
            "77/77 [==============================] - 46s 594ms/step - loss: 0.6219 - accuracy: 0.9036 - val_loss: 0.7377 - val_accuracy: 0.8574\n",
            "Epoch 9/50\n",
            "77/77 [==============================] - ETA: 0s - loss: 0.6134 - accuracy: 0.9151\n",
            "Epoch 9: val_loss did not improve from 0.63671\n",
            "77/77 [==============================] - 46s 595ms/step - loss: 0.6134 - accuracy: 0.9151 - val_loss: 0.7286 - val_accuracy: 0.8574\n",
            "Epoch 10/50\n",
            "77/77 [==============================] - ETA: 0s - loss: 0.6031 - accuracy: 0.9180\n",
            "Epoch 10: val_loss did not improve from 0.63671\n",
            "77/77 [==============================] - 46s 595ms/step - loss: 0.6031 - accuracy: 0.9180 - val_loss: 0.6614 - val_accuracy: 0.8967\n",
            "Epoch 11/50\n",
            "77/77 [==============================] - ETA: 0s - loss: 0.5895 - accuracy: 0.9282\n",
            "Epoch 11: val_loss did not improve from 0.63671\n",
            "77/77 [==============================] - 46s 595ms/step - loss: 0.5895 - accuracy: 0.9282 - val_loss: 0.6440 - val_accuracy: 0.9000\n",
            "Epoch 12/50\n",
            "77/77 [==============================] - ETA: 0s - loss: 0.5879 - accuracy: 0.9307\n",
            "Epoch 12: val_loss did not improve from 0.63671\n",
            "77/77 [==============================] - 46s 595ms/step - loss: 0.5879 - accuracy: 0.9307 - val_loss: 0.6462 - val_accuracy: 0.8820\n",
            "Epoch 13/50\n",
            "77/77 [==============================] - ETA: 0s - loss: 0.5761 - accuracy: 0.9451\n",
            "Epoch 13: val_loss improved from 0.63671 to 0.61865, saving model to vit_model.hdf5\n",
            "77/77 [==============================] - 50s 651ms/step - loss: 0.5761 - accuracy: 0.9451 - val_loss: 0.6186 - val_accuracy: 0.8984\n",
            "Epoch 14/50\n",
            "77/77 [==============================] - ETA: 0s - loss: 0.5578 - accuracy: 0.9586\n",
            "Epoch 14: val_loss did not improve from 0.61865\n",
            "77/77 [==============================] - 46s 596ms/step - loss: 0.5578 - accuracy: 0.9586 - val_loss: 0.6932 - val_accuracy: 0.8607\n",
            "Epoch 15/50\n",
            "77/77 [==============================] - ETA: 0s - loss: 0.5460 - accuracy: 0.9664\n",
            "Epoch 15: val_loss improved from 0.61865 to 0.60485, saving model to vit_model.hdf5\n",
            "77/77 [==============================] - 48s 623ms/step - loss: 0.5460 - accuracy: 0.9664 - val_loss: 0.6049 - val_accuracy: 0.9197\n",
            "Epoch 16/50\n",
            "77/77 [==============================] - ETA: 0s - loss: 0.5485 - accuracy: 0.9647\n",
            "Epoch 16: val_loss did not improve from 0.60485\n",
            "77/77 [==============================] - 46s 595ms/step - loss: 0.5485 - accuracy: 0.9647 - val_loss: 0.6218 - val_accuracy: 0.9197\n",
            "Epoch 17/50\n",
            "77/77 [==============================] - ETA: 0s - loss: 0.5252 - accuracy: 0.9832\n",
            "Epoch 17: val_loss did not improve from 0.60485\n",
            "77/77 [==============================] - 46s 595ms/step - loss: 0.5252 - accuracy: 0.9832 - val_loss: 0.6080 - val_accuracy: 0.9148\n",
            "Epoch 18/50\n",
            "77/77 [==============================] - ETA: 0s - loss: 0.5250 - accuracy: 0.9856\n",
            "Epoch 18: val_loss did not improve from 0.60485\n",
            "77/77 [==============================] - 46s 595ms/step - loss: 0.5250 - accuracy: 0.9856 - val_loss: 0.6066 - val_accuracy: 0.9197\n",
            "Epoch 19/50\n",
            "77/77 [==============================] - ETA: 0s - loss: 0.5170 - accuracy: 0.9885\n",
            "Epoch 19: val_loss improved from 0.60485 to 0.60469, saving model to vit_model.hdf5\n",
            "77/77 [==============================] - 48s 623ms/step - loss: 0.5170 - accuracy: 0.9885 - val_loss: 0.6047 - val_accuracy: 0.9164\n",
            "Epoch 20/50\n",
            "77/77 [==============================] - ETA: 0s - loss: 0.5070 - accuracy: 0.9959\n",
            "Epoch 20: val_loss improved from 0.60469 to 0.60117, saving model to vit_model.hdf5\n",
            "77/77 [==============================] - 50s 644ms/step - loss: 0.5070 - accuracy: 0.9959 - val_loss: 0.6012 - val_accuracy: 0.9328\n",
            "Epoch 21/50\n",
            "77/77 [==============================] - ETA: 0s - loss: 0.5045 - accuracy: 0.9975\n",
            "Epoch 21: val_loss did not improve from 0.60117\n",
            "77/77 [==============================] - 46s 595ms/step - loss: 0.5045 - accuracy: 0.9975 - val_loss: 0.6102 - val_accuracy: 0.9098\n",
            "Epoch 22/50\n",
            "77/77 [==============================] - ETA: 0s - loss: 0.5114 - accuracy: 0.9910\n",
            "Epoch 22: val_loss did not improve from 0.60117\n",
            "77/77 [==============================] - 46s 595ms/step - loss: 0.5114 - accuracy: 0.9910 - val_loss: 0.6021 - val_accuracy: 0.9246\n",
            "Epoch 23/50\n",
            "77/77 [==============================] - ETA: 0s - loss: 0.5057 - accuracy: 0.9951\n",
            "Epoch 23: val_loss improved from 0.60117 to 0.58535, saving model to vit_model.hdf5\n",
            "77/77 [==============================] - 50s 649ms/step - loss: 0.5057 - accuracy: 0.9951 - val_loss: 0.5853 - val_accuracy: 0.9393\n",
            "Epoch 24/50\n",
            "77/77 [==============================] - ETA: 0s - loss: 0.5139 - accuracy: 0.9877\n",
            "Epoch 24: val_loss did not improve from 0.58535\n",
            "77/77 [==============================] - 46s 596ms/step - loss: 0.5139 - accuracy: 0.9877 - val_loss: 0.6128 - val_accuracy: 0.9328\n",
            "Epoch 25/50\n",
            "77/77 [==============================] - ETA: 0s - loss: 0.5062 - accuracy: 0.9959\n",
            "Epoch 25: val_loss did not improve from 0.58535\n",
            "77/77 [==============================] - 46s 596ms/step - loss: 0.5062 - accuracy: 0.9959 - val_loss: 0.5979 - val_accuracy: 0.9164\n",
            "Epoch 26/50\n",
            "77/77 [==============================] - ETA: 0s - loss: 0.5004 - accuracy: 0.9979\n",
            "Epoch 26: val_loss did not improve from 0.58535\n",
            "77/77 [==============================] - 46s 596ms/step - loss: 0.5004 - accuracy: 0.9979 - val_loss: 0.5937 - val_accuracy: 0.9279\n",
            "Epoch 27/50\n",
            "77/77 [==============================] - ETA: 0s - loss: 0.5062 - accuracy: 0.9922\n",
            "Epoch 27: val_loss did not improve from 0.58535\n",
            "77/77 [==============================] - 46s 596ms/step - loss: 0.5062 - accuracy: 0.9922 - val_loss: 0.5864 - val_accuracy: 0.9262\n",
            "Epoch 28/50\n",
            "77/77 [==============================] - ETA: 0s - loss: 0.5018 - accuracy: 0.9979\n",
            "Epoch 28: val_loss did not improve from 0.58535\n",
            "77/77 [==============================] - 46s 596ms/step - loss: 0.5018 - accuracy: 0.9979 - val_loss: 0.6728 - val_accuracy: 0.9000\n",
            "Epoch 29/50\n",
            "77/77 [==============================] - ETA: 0s - loss: 0.4966 - accuracy: 0.9988\n",
            "Epoch 29: val_loss did not improve from 0.58535\n",
            "77/77 [==============================] - 46s 596ms/step - loss: 0.4966 - accuracy: 0.9988 - val_loss: 0.5894 - val_accuracy: 0.9311\n",
            "Epoch 30/50\n",
            "77/77 [==============================] - ETA: 0s - loss: 0.4981 - accuracy: 0.9971\n",
            "Epoch 30: val_loss did not improve from 0.58535\n",
            "77/77 [==============================] - 46s 596ms/step - loss: 0.4981 - accuracy: 0.9971 - val_loss: 0.5867 - val_accuracy: 0.9246\n",
            "Epoch 31/50\n",
            "77/77 [==============================] - ETA: 0s - loss: 0.5013 - accuracy: 0.9971\n",
            "Epoch 31: val_loss did not improve from 0.58535\n",
            "77/77 [==============================] - 46s 596ms/step - loss: 0.5013 - accuracy: 0.9971 - val_loss: 0.6164 - val_accuracy: 0.9098\n",
            "Epoch 32/50\n",
            "77/77 [==============================] - ETA: 0s - loss: 0.4984 - accuracy: 0.9984\n",
            "Epoch 32: val_loss did not improve from 0.58535\n",
            "77/77 [==============================] - 46s 595ms/step - loss: 0.4984 - accuracy: 0.9984 - val_loss: 0.6026 - val_accuracy: 0.9213\n",
            "Epoch 33/50\n",
            "77/77 [==============================] - ETA: 0s - loss: 0.5013 - accuracy: 0.9951\n",
            "Epoch 33: val_loss did not improve from 0.58535\n",
            "77/77 [==============================] - 46s 595ms/step - loss: 0.5013 - accuracy: 0.9951 - val_loss: 0.6127 - val_accuracy: 0.9262\n",
            "Epoch 34/50\n",
            "77/77 [==============================] - ETA: 0s - loss: 0.4980 - accuracy: 0.9971\n",
            "Epoch 34: val_loss did not improve from 0.58535\n",
            "77/77 [==============================] - 46s 595ms/step - loss: 0.4980 - accuracy: 0.9971 - val_loss: 0.6665 - val_accuracy: 0.8852\n",
            "Epoch 35/50\n",
            "77/77 [==============================] - ETA: 0s - loss: 0.5128 - accuracy: 0.9889\n",
            "Epoch 35: val_loss did not improve from 0.58535\n",
            "77/77 [==============================] - 46s 595ms/step - loss: 0.5128 - accuracy: 0.9889 - val_loss: 0.6778 - val_accuracy: 0.8836\n",
            "Epoch 36/50\n",
            "77/77 [==============================] - ETA: 0s - loss: 0.5138 - accuracy: 0.9869\n",
            "Epoch 36: val_loss did not improve from 0.58535\n",
            "77/77 [==============================] - 46s 596ms/step - loss: 0.5138 - accuracy: 0.9869 - val_loss: 0.6001 - val_accuracy: 0.9197\n",
            "Epoch 37/50\n",
            "77/77 [==============================] - ETA: 0s - loss: 0.4997 - accuracy: 0.9967\n",
            "Epoch 37: val_loss did not improve from 0.58535\n",
            "77/77 [==============================] - 46s 595ms/step - loss: 0.4997 - accuracy: 0.9967 - val_loss: 0.6579 - val_accuracy: 0.9066\n",
            "Epoch 38/50\n",
            "77/77 [==============================] - ETA: 0s - loss: 0.4970 - accuracy: 0.9979Restoring model weights from the end of the best epoch: 23.\n",
            "\n",
            "Epoch 38: val_loss did not improve from 0.58535\n",
            "77/77 [==============================] - 46s 599ms/step - loss: 0.4970 - accuracy: 0.9979 - val_loss: 0.6275 - val_accuracy: 0.9098\n",
            "Epoch 38: early stopping\n"
          ]
        },
        {
          "output_type": "execute_result",
          "data": {
            "text/plain": [
              "<keras.src.callbacks.History at 0x7ba5f08b7790>"
            ]
          },
          "metadata": {},
          "execution_count": 22
        }
      ],
      "source": [
        "learning_rate = 1e-4\n",
        "\n",
        "optimizer = tfa.optimizers.RectifiedAdam(learning_rate = learning_rate)\n",
        "\n",
        "model.compile(optimizer = optimizer,\n",
        "              loss = tf.keras.losses.CategoricalCrossentropy(label_smoothing = 0.2),\n",
        "              metrics = ['accuracy'])\n",
        "\n",
        "\n",
        "early_stopping_callbacks = tf.keras.callbacks.EarlyStopping(patience = 15, restore_best_weights = True, verbose = 1)\n",
        "\n",
        "model.fit(x_train, y_train,\n",
        "          validation_data = (x_test, y_test),\n",
        "          epochs = 50,\n",
        "          callbacks = [early_stopping_callbacks, checkpointer])"
      ]
    },
    {
      "cell_type": "code",
      "execution_count": null,
      "metadata": {
        "id": "Vk7arDdRGY1r",
        "colab": {
          "base_uri": "https://localhost:8080/"
        },
        "outputId": "1ebd2a1d-2aed-481b-904e-6b33621f6457"
      },
      "outputs": [
        {
          "output_type": "stream",
          "name": "stdout",
          "text": [
            "20/20 [==============================] - 6s 175ms/step\n"
          ]
        }
      ],
      "source": [
        "model.load_weights('vit_model.hdf5')\n",
        "pred = model.predict(x_test)"
      ]
    },
    {
      "cell_type": "code",
      "execution_count": null,
      "metadata": {
        "id": "mcRAriUkGg7T",
        "colab": {
          "base_uri": "https://localhost:8080/"
        },
        "outputId": "30a3e115-c800-4895-db99-213319d3ff9e"
      },
      "outputs": [
        {
          "output_type": "stream",
          "name": "stdout",
          "text": [
            "              precision    recall  f1-score   support\n",
            "\n",
            "           0       0.86      0.87      0.86       128\n",
            "           1       0.95      0.95      0.95       304\n",
            "           2       0.98      0.97      0.97       178\n",
            "\n",
            "    accuracy                           0.94       610\n",
            "   macro avg       0.93      0.93      0.93       610\n",
            "weighted avg       0.94      0.94      0.94       610\n",
            "\n"
          ]
        }
      ],
      "source": [
        "y_true = np.argmax(y_test, axis=1)\n",
        "pred = np.argmax(pred, axis=1)\n",
        "\n",
        "print(classification_report(y_true, pred))"
      ]
    }
  ]
}