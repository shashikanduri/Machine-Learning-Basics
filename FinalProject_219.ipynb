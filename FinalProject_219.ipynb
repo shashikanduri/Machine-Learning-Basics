{
  "cells": [
    {
      "cell_type": "markdown",
      "metadata": {
        "id": "G9cysgHZnJGz"
      },
      "source": [
        "# Final Project\n",
        "### Team: &emsp;&emsp; Sasi Kanduri &emsp;&emsp; Vikas Mishra &emsp;&emsp; Ashish Kotian"
      ]
    },
    {
      "cell_type": "code",
      "execution_count": 1,
      "metadata": {
        "colab": {
          "base_uri": "https://localhost:8080/"
        },
        "id": "bjH3fC3HnNBJ",
        "outputId": "398e31fc-ab3b-44db-801e-7a6e06a65494"
      },
      "outputs": [
        {
          "output_type": "stream",
          "name": "stdout",
          "text": [
            "Drive not mounted, so nothing to flush and unmount.\n",
            "Mounted at /content/drive\n"
          ]
        }
      ],
      "source": [
        "from google.colab import drive\n",
        "drive.flush_and_unmount()\n",
        "drive.mount('/content/drive')"
      ]
    },
    {
      "cell_type": "code",
      "execution_count": 2,
      "metadata": {
        "colab": {
          "base_uri": "https://localhost:8080/"
        },
        "id": "tQQHqEpJxnQa",
        "outputId": "e3e4b60b-bd00-4077-b1a3-a4bf8d4ce448"
      },
      "outputs": [
        {
          "output_type": "stream",
          "name": "stdout",
          "text": [
            "Collecting SimpleITK\n",
            "  Downloading SimpleITK-2.3.1-cp310-cp310-manylinux_2_17_x86_64.manylinux2014_x86_64.whl (52.7 MB)\n",
            "\u001b[2K     \u001b[90m━━━━━━━━━━━━━━━━━━━━━━━━━━━━━━━━━━━━━━━━\u001b[0m \u001b[32m52.7/52.7 MB\u001b[0m \u001b[31m35.9 MB/s\u001b[0m eta \u001b[36m0:00:00\u001b[0m\n",
            "\u001b[?25hInstalling collected packages: SimpleITK\n",
            "Successfully installed SimpleITK-2.3.1\n"
          ]
        }
      ],
      "source": [
        "!pip install SimpleITK"
      ]
    },
    {
      "cell_type": "code",
      "execution_count": null,
      "metadata": {
        "id": "jiW_alxwSmKD"
      },
      "outputs": [],
      "source": [
        "!unzip /content/drive/MyDrive/mat_files/all_files.zip"
      ]
    },
    {
      "cell_type": "markdown",
      "metadata": {
        "id": "iwQnnVshhdpg"
      },
      "source": [
        "## Baseline model"
      ]
    },
    {
      "cell_type": "markdown",
      "metadata": {
        "id": "vHSDrXz0nJG2"
      },
      "source": [
        "### Converting .mat files to jpg and image arrays\n",
        "#### The dataset we chose is from https://figshare.com/articles/dataset/brain_tumor_dataset/1512427?file=7953679 has images in .mat files. We have to take the image arrays out of the .mat constructs and pre-process them."
      ]
    },
    {
      "cell_type": "code",
      "execution_count": 36,
      "metadata": {
        "id": "4Bud0SZhnJG2"
      },
      "outputs": [],
      "source": [
        "import os\n",
        "import h5py\n",
        "import numpy as np\n",
        "from PIL import Image\n",
        "import pandas as pd\n",
        "import cv2\n",
        "import SimpleITK as sitk\n",
        "# # List of directories to process\n",
        "# directories = [\n",
        "#     'brainTumorDataPublic_1-766',\n",
        "#     'brainTumorDataPublic_767-1532',\n",
        "#     'brainTumorDataPublic_1533-2298',\n",
        "#     'brainTumorDataPublic_2299-3064'\n",
        "# ]\n",
        "\n",
        "y_labels = []\n",
        "filename_column = []\n",
        "\n",
        "image_arrays = []\n",
        "image_classes = []\n",
        "image_size = 256\n",
        "\n",
        "\n",
        "# Set the paths for the Mat and Jpg folders\n",
        "mat_folder = f\"all_files/all_files\"\n",
        "# jpg_folder = f'./Jpg_images'\n",
        "\n",
        "# Create the Jpg folder if it doesn't exist\n",
        "# if not os.path.exists(jpg_folder):\n",
        "#     os.makedirs(jpg_folder)\n",
        "\n",
        "# Iterate through files in the Mat folder\n",
        "for filename in os.listdir(mat_folder):\n",
        "    # Construct the full file paths\n",
        "    mat_filepath = os.path.join(mat_folder, filename)\n",
        "    # jpg_filepath = os.path.join(jpg_folder, filename.split(\".\")[0] + '.jpg')\n",
        "\n",
        "    # Open the mat file\n",
        "    with h5py.File(mat_filepath, 'r+') as f:\n",
        "\n",
        "        cjdata = f['cjdata']\n",
        "        image = np.array(cjdata.get('image')).astype(np.float64)\n",
        "        label = cjdata.get('label')[0, 0]\n",
        "\n",
        "        if image.shape[0] == 512:\n",
        "\n",
        "            y_labels.append(label - 1)\n",
        "            filename_column.append(filename.split(\".\")[0])\n",
        "\n",
        "            # Perform image processing\n",
        "            hi = np.max(image)\n",
        "            lo = np.min(image)\n",
        "            image = (((image - lo) / (hi - lo)) * 255).astype(np.uint8)\n",
        "\n",
        "            image = cv2.resize(image, (image_size, image_size), interpolation=cv2.INTER_AREA)\n",
        "            image_arrays.append(image)\n",
        "            image_classes.append(label - 1)\n",
        "\n",
        "            # cv2.imwrite(jpg_filepath, image)\n",
        "            # t1_image = sitk.GetImageFromArray(image)\n",
        "            # sitk.WriteImage(t1_image, jpg_filepath)\n",
        "\n",
        "\n",
        "# df = pd.DataFrame({'filename':filename_column, 'label':y_labels})\n",
        "# df.to_csv('final_df.csv', index=False)"
      ]
    },
    {
      "cell_type": "markdown",
      "metadata": {
        "id": "vOfPzmVgTQPE"
      },
      "source": [
        "#### Sample image from an image array"
      ]
    },
    {
      "cell_type": "code",
      "execution_count": 37,
      "metadata": {
        "colab": {
          "base_uri": "https://localhost:8080/",
          "height": 273
        },
        "id": "eYptP2l5nJG3",
        "outputId": "9a06b69a-f97c-47f7-ce22-9c94362c1037"
      },
      "outputs": [
        {
          "output_type": "execute_result",
          "data": {
            "text/plain": [
              "<PIL.Image.Image image mode=L size=256x256>"
            ],
            "image/png": "[encoded data removed]"
          },
          "metadata": {},
          "execution_count": 37
        }
      ],
      "source": [
        "Image.fromarray(image_arrays[0], 'L')"
      ]
    },
    {
      "cell_type": "markdown",
      "metadata": {
        "id": "eDKGOrIbnJG4"
      },
      "source": [
        "### Data pre-processing"
      ]
    },
    {
      "cell_type": "code",
      "execution_count": 38,
      "metadata": {
        "colab": {
          "base_uri": "https://localhost:8080/"
        },
        "id": "JzEDUCXX_LTo",
        "outputId": "07522423-0a58-4990-bc54-8c91c5fe4a43"
      },
      "outputs": [
        {
          "output_type": "stream",
          "name": "stdout",
          "text": [
            "Requirement already satisfied: tensorflow_addons in /usr/local/lib/python3.10/dist-packages (0.22.0)\n",
            "Requirement already satisfied: packaging in /usr/local/lib/python3.10/dist-packages (from tensorflow_addons) (23.2)\n",
            "Requirement already satisfied: typeguard<3.0.0,>=2.7 in /usr/local/lib/python3.10/dist-packages (from tensorflow_addons) (2.13.3)\n"
          ]
        }
      ],
      "source": [
        "!pip install tensorflow_addons\n"
      ]
    },
    {
      "cell_type": "code",
      "execution_count": 39,
      "metadata": {
        "id": "mFdxJv-rnJG5"
      },
      "outputs": [],
      "source": [
        "import numpy as np\n",
        "from numpy import array\n",
        "import pandas as pd\n",
        "\n",
        "from tensorflow.keras.models import Sequential\n",
        "from tensorflow.keras.layers import Dense,Flatten,Embedding,Activation, Dropout\n",
        "from tensorflow.keras.layers import Conv1D, MaxPooling1D, GlobalMaxPooling1D\n",
        "from tensorflow.keras.utils import plot_model, image_dataset_from_directory\n",
        "from tensorflow.keras.layers import Input\n",
        "from tensorflow.keras.layers import Dense, Flatten\n",
        "from tensorflow.keras.layers import Flatten\n",
        "from tensorflow.keras.layers import Conv2D, Rescaling\n",
        "from tensorflow.keras.layers import MaxPooling2D\n",
        "from tensorflow.keras.callbacks import EarlyStopping, ModelCheckpoint\n",
        "\n",
        "import tensorflow.keras.layers as L\n",
        "import matplotlib.pyplot as plt\n",
        "import tensorflow_addons as tfa\n",
        "\n",
        "from sklearn.metrics import classification_report\n",
        "from sklearn.model_selection import train_test_split\n",
        "\n",
        "\n",
        "import tensorflow as tf"
      ]
    },
    {
      "cell_type": "markdown",
      "metadata": {
        "id": "S9ed8jWJdtTD"
      },
      "source": [
        "#### Image arrays got from previous step"
      ]
    },
    {
      "cell_type": "code",
      "execution_count": 40,
      "metadata": {
        "id": "5Uo1Rv3AnJG6"
      },
      "outputs": [],
      "source": [
        "image_arrays = np.array(image_arrays).astype(np.uint8)\n",
        "image_arrays = image_arrays.reshape(image_arrays.shape[0], image_size, image_size, 1)"
      ]
    },
    {
      "cell_type": "code",
      "execution_count": 41,
      "metadata": {
        "colab": {
          "base_uri": "https://localhost:8080/"
        },
        "id": "JuN64uJldf-i",
        "outputId": "77764ba8-cee0-42cb-b435-afb3de506e5c"
      },
      "outputs": [
        {
          "output_type": "execute_result",
          "data": {
            "text/plain": [
              "array([[[0],\n",
              "        [0],\n",
              "        [0],\n",
              "        ...,\n",
              "        [0],\n",
              "        [0],\n",
              "        [0]],\n",
              "\n",
              "       [[0],\n",
              "        [0],\n",
              "        [0],\n",
              "        ...,\n",
              "        [0],\n",
              "        [0],\n",
              "        [0]],\n",
              "\n",
              "       [[0],\n",
              "        [0],\n",
              "        [0],\n",
              "        ...,\n",
              "        [0],\n",
              "        [0],\n",
              "        [0]],\n",
              "\n",
              "       ...,\n",
              "\n",
              "       [[0],\n",
              "        [0],\n",
              "        [0],\n",
              "        ...,\n",
              "        [0],\n",
              "        [0],\n",
              "        [0]],\n",
              "\n",
              "       [[0],\n",
              "        [0],\n",
              "        [0],\n",
              "        ...,\n",
              "        [0],\n",
              "        [0],\n",
              "        [0]],\n",
              "\n",
              "       [[0],\n",
              "        [0],\n",
              "        [0],\n",
              "        ...,\n",
              "        [0],\n",
              "        [0],\n",
              "        [0]]], dtype=uint8)"
            ]
          },
          "metadata": {},
          "execution_count": 41
        }
      ],
      "source": [
        "image_arrays[0]"
      ]
    },
    {
      "cell_type": "code",
      "execution_count": 42,
      "metadata": {
        "id": "KzbQRrRKiaKR"
      },
      "outputs": [],
      "source": [
        "image_classes_encoded = tf.keras.utils.to_categorical(image_classes, 3)\n",
        "image_classes_encoded = image_classes_encoded.astype(np.uint8)"
      ]
    },
    {
      "cell_type": "code",
      "execution_count": 43,
      "metadata": {
        "colab": {
          "base_uri": "https://localhost:8080/"
        },
        "id": "lRm5K3gHhdpf",
        "outputId": "90935bf0-0beb-4974-aeec-af88b4e9aa6b"
      },
      "outputs": [
        {
          "output_type": "stream",
          "name": "stdout",
          "text": [
            "(3049, 256, 256, 1)\n",
            "(3049, 3)\n"
          ]
        }
      ],
      "source": [
        "print(image_arrays.shape)\n",
        "print(image_classes_encoded.shape)"
      ]
    },
    {
      "cell_type": "markdown",
      "metadata": {
        "id": "zyufiFruhEEC"
      },
      "source": [
        "### Baseline model from the paper"
      ]
    },
    {
      "cell_type": "code",
      "execution_count": 44,
      "metadata": {
        "id": "GWZMZ4tShdpg"
      },
      "outputs": [],
      "source": [
        "x_train, x_test, y_train, y_test = train_test_split(image_arrays, image_classes_encoded, test_size=0.20, random_state=42)"
      ]
    },
    {
      "cell_type": "code",
      "execution_count": 45,
      "metadata": {
        "colab": {
          "base_uri": "https://localhost:8080/"
        },
        "id": "yqyrMVNmhdpg",
        "outputId": "9c9da2d0-5354-4cac-e774-d593b1d03553"
      },
      "outputs": [
        {
          "output_type": "stream",
          "name": "stdout",
          "text": [
            "(2439, 256, 256, 1)\n",
            "(610, 256, 256, 1)\n",
            "(2439, 3)\n",
            "(610, 3)\n"
          ]
        }
      ],
      "source": [
        "print(x_train.shape)\n",
        "print(x_test.shape)\n",
        "print(y_train.shape)\n",
        "print(y_test.shape)"
      ]
    },
    {
      "cell_type": "code",
      "execution_count": 54,
      "metadata": {
        "colab": {
          "base_uri": "https://localhost:8080/"
        },
        "id": "_L-oFnJ0hdpg",
        "outputId": "05dbf761-c1ea-44c1-95d6-b75b9809eae7"
      },
      "outputs": [
        {
          "output_type": "stream",
          "name": "stdout",
          "text": [
            "Model: \"sequential_3\"\n",
            "_________________________________________________________________\n",
            " Layer (type)                Output Shape              Param #   \n",
            "=================================================================\n",
            " rescaling_3 (Rescaling)     (None, 256, 256, 1)       0         \n",
            "                                                                 \n",
            " conv2d_15 (Conv2D)          (None, 256, 256, 64)      1664      \n",
            "                                                                 \n",
            " max_pooling2d_15 (MaxPooli  (None, 128, 128, 64)      0         \n",
            " ng2D)                                                           \n",
            "                                                                 \n",
            " dropout_15 (Dropout)        (None, 128, 128, 64)      0         \n",
            "                                                                 \n",
            " conv2d_16 (Conv2D)          (None, 128, 128, 64)      16448     \n",
            "                                                                 \n",
            " max_pooling2d_16 (MaxPooli  (None, 64, 64, 64)        0         \n",
            " ng2D)                                                           \n",
            "                                                                 \n",
            " dropout_16 (Dropout)        (None, 64, 64, 64)        0         \n",
            "                                                                 \n",
            " conv2d_17 (Conv2D)          (None, 64, 64, 64)        16448     \n",
            "                                                                 \n",
            " max_pooling2d_17 (MaxPooli  (None, 32, 32, 64)        0         \n",
            " ng2D)                                                           \n",
            "                                                                 \n",
            " dropout_17 (Dropout)        (None, 32, 32, 64)        0         \n",
            "                                                                 \n",
            " conv2d_18 (Conv2D)          (None, 32, 32, 64)        16448     \n",
            "                                                                 \n",
            " max_pooling2d_18 (MaxPooli  (None, 16, 16, 64)        0         \n",
            " ng2D)                                                           \n",
            "                                                                 \n",
            " dropout_18 (Dropout)        (None, 16, 16, 64)        0         \n",
            "                                                                 \n",
            " conv2d_19 (Conv2D)          (None, 16, 16, 64)        16448     \n",
            "                                                                 \n",
            " max_pooling2d_19 (MaxPooli  (None, 8, 8, 64)          0         \n",
            " ng2D)                                                           \n",
            "                                                                 \n",
            " dropout_19 (Dropout)        (None, 8, 8, 64)          0         \n",
            "                                                                 \n",
            " flatten_3 (Flatten)         (None, 4096)              0         \n",
            "                                                                 \n",
            " dense_6 (Dense)             (None, 1024)              4195328   \n",
            "                                                                 \n",
            " dense_7 (Dense)             (None, 3)                 3075      \n",
            "                                                                 \n",
            "=================================================================\n",
            "Total params: 4265859 (16.27 MB)\n",
            "Trainable params: 4265859 (16.27 MB)\n",
            "Non-trainable params: 0 (0.00 Byte)\n",
            "_________________________________________________________________\n"
          ]
        }
      ],
      "source": [
        "model = Sequential()\n",
        "\n",
        "model.add(Input(shape=(image_size, image_size, 1)))\n",
        "model.add(Rescaling(1./255)) # scale pixels)\n",
        "\n",
        "#1\n",
        "\n",
        "model.add(Conv2D(64, kernel_size=(5, 5), padding='same', strides=1,\n",
        "                 activation='relu'))\n",
        "\n",
        "model.add(MaxPooling2D(pool_size=(2,2)))\n",
        "model.add(Dropout(0.2))\n",
        "\n",
        "# 2\n",
        "\n",
        "model.add(Conv2D(64, kernel_size=(2, 2), padding='same', strides=1,\n",
        "                 activation='relu'))\n",
        "\n",
        "model.add(MaxPooling2D(pool_size=(2,2)))\n",
        "model.add(Dropout(0.2))\n",
        "\n",
        "# 3\n",
        "\n",
        "model.add(Conv2D(64, kernel_size=(2, 2), padding='same', strides=1,\n",
        "                 activation='relu'))\n",
        "\n",
        "model.add(MaxPooling2D(pool_size=(2,2)))\n",
        "model.add(Dropout(0.2))\n",
        "\n",
        "# 4\n",
        "\n",
        "model.add(Conv2D(64, kernel_size=(2, 2), padding='same', strides=1,\n",
        "                 activation='relu'))\n",
        "\n",
        "model.add(MaxPooling2D(pool_size=(2,2)))\n",
        "model.add(Dropout(0.2))\n",
        "\n",
        "# 5\n",
        "\n",
        "model.add(Conv2D(64, kernel_size=(2, 2), padding='same', strides=1,\n",
        "                 activation='relu'))\n",
        "\n",
        "model.add(MaxPooling2D(pool_size=(2,2)))\n",
        "model.add(Dropout(0.2))\n",
        "\n",
        "# flatten and dense\n",
        "\n",
        "model.add(Flatten())\n",
        "\n",
        "model.add(Dense(1024, activation='relu'))\n",
        "model.add(Dense(3, activation='softmax'))\n",
        "\n",
        "model.summary()"
      ]
    },
    {
      "cell_type": "code",
      "execution_count": 55,
      "metadata": {
        "id": "5qouYpqthdph"
      },
      "outputs": [],
      "source": [
        "model.compile(optimizer='adam', loss='categorical_crossentropy', metrics=['accuracy'])"
      ]
    },
    {
      "cell_type": "code",
      "execution_count": 56,
      "metadata": {
        "id": "jQc62halhdph"
      },
      "outputs": [],
      "source": [
        "monitor = EarlyStopping(monitor='val_loss', min_delta=1e-3, patience=5, verbose=2, mode='auto')"
      ]
    },
    {
      "cell_type": "code",
      "execution_count": 57,
      "metadata": {
        "colab": {
          "base_uri": "https://localhost:8080/"
        },
        "id": "_UtaTjs3hdpi",
        "outputId": "b4c257f7-f960-4d8a-d079-5f3a47a92e65"
      },
      "outputs": [
        {
          "output_type": "stream",
          "name": "stdout",
          "text": [
            "Epoch 1/20\n",
            "77/77 [==============================] - 6s 50ms/step - loss: 0.7753 - accuracy: 0.6568 - val_loss: 0.6520 - val_accuracy: 0.7197\n",
            "Epoch 2/20\n",
            "77/77 [==============================] - 4s 46ms/step - loss: 0.5798 - accuracy: 0.7392 - val_loss: 0.6014 - val_accuracy: 0.7164\n",
            "Epoch 3/20\n",
            "77/77 [==============================] - 4s 46ms/step - loss: 0.4606 - accuracy: 0.8011 - val_loss: 0.8077 - val_accuracy: 0.6574\n",
            "Epoch 4/20\n",
            "77/77 [==============================] - 4s 46ms/step - loss: 0.3871 - accuracy: 0.8339 - val_loss: 0.8978 - val_accuracy: 0.6574\n",
            "Epoch 5/20\n",
            "77/77 [==============================] - 4s 46ms/step - loss: 0.3187 - accuracy: 0.8626 - val_loss: 0.5695 - val_accuracy: 0.7705\n",
            "Epoch 6/20\n",
            "77/77 [==============================] - 4s 46ms/step - loss: 0.2443 - accuracy: 0.9024 - val_loss: 0.3845 - val_accuracy: 0.8344\n",
            "Epoch 7/20\n",
            "77/77 [==============================] - 4s 46ms/step - loss: 0.2041 - accuracy: 0.9168 - val_loss: 0.3937 - val_accuracy: 0.8508\n",
            "Epoch 8/20\n",
            "77/77 [==============================] - 4s 46ms/step - loss: 0.1917 - accuracy: 0.9250 - val_loss: 0.5251 - val_accuracy: 0.8066\n",
            "Epoch 9/20\n",
            "77/77 [==============================] - 4s 46ms/step - loss: 0.1505 - accuracy: 0.9393 - val_loss: 0.2079 - val_accuracy: 0.9000\n",
            "Epoch 10/20\n",
            "77/77 [==============================] - 4s 46ms/step - loss: 0.1484 - accuracy: 0.9475 - val_loss: 0.3568 - val_accuracy: 0.8623\n",
            "Epoch 11/20\n",
            "77/77 [==============================] - 3s 45ms/step - loss: 0.1225 - accuracy: 0.9487 - val_loss: 0.5125 - val_accuracy: 0.8311\n",
            "Epoch 12/20\n",
            "77/77 [==============================] - 3s 45ms/step - loss: 0.1138 - accuracy: 0.9549 - val_loss: 0.2405 - val_accuracy: 0.9164\n",
            "Epoch 13/20\n",
            "77/77 [==============================] - 3s 45ms/step - loss: 0.0751 - accuracy: 0.9779 - val_loss: 0.2268 - val_accuracy: 0.9279\n",
            "Epoch 14/20\n",
            "77/77 [==============================] - 4s 46ms/step - loss: 0.0878 - accuracy: 0.9656 - val_loss: 0.3000 - val_accuracy: 0.8951\n",
            "Epoch 14: early stopping\n"
          ]
        },
        {
          "output_type": "execute_result",
          "data": {
            "text/plain": [
              "<keras.src.callbacks.History at 0x7b73e01adf60>"
            ]
          },
          "metadata": {},
          "execution_count": 57
        }
      ],
      "source": [
        "model.fit(x_train, y_train, epochs=20, batch_size=32, validation_data=(x_test, y_test), callbacks=[monitor])"
      ]
    },
    {
      "cell_type": "code",
      "execution_count": 58,
      "metadata": {
        "colab": {
          "base_uri": "https://localhost:8080/"
        },
        "id": "Wu9GyV1Whdpi",
        "outputId": "190e7ac9-6b9a-4303-9de8-7539b6bf300a"
      },
      "outputs": [
        {
          "output_type": "stream",
          "name": "stdout",
          "text": [
            "20/20 [==============================] - 0s 6ms/step\n"
          ]
        },
        {
          "output_type": "execute_result",
          "data": {
            "text/plain": [
              "array([[5.21646202e-01, 4.75342810e-01, 3.01097217e-03],\n",
              "       [3.82299498e-02, 9.61769998e-01, 1.00478381e-08],\n",
              "       [2.05007358e-03, 9.97917235e-01, 3.27231755e-05],\n",
              "       ...,\n",
              "       [6.80000365e-01, 3.19999278e-01, 4.37249440e-07],\n",
              "       [3.90022160e-06, 1.32116675e-05, 9.99982834e-01],\n",
              "       [2.23328402e-06, 9.99997020e-01, 7.70693873e-07]], dtype=float32)"
            ]
          },
          "metadata": {},
          "execution_count": 58
        }
      ],
      "source": [
        "pred = model.predict(x_test)\n",
        "pred"
      ]
    },
    {
      "cell_type": "code",
      "execution_count": 59,
      "metadata": {
        "colab": {
          "base_uri": "https://localhost:8080/"
        },
        "id": "q93eSJ1hhdpi",
        "outputId": "aba69681-8ad9-4369-9d55-b477951b4546"
      },
      "outputs": [
        {
          "output_type": "stream",
          "name": "stdout",
          "text": [
            "              precision    recall  f1-score   support\n",
            "\n",
            "           0       0.89      0.63      0.74       128\n",
            "           1       0.85      0.97      0.91       304\n",
            "           2       0.99      0.95      0.97       178\n",
            "\n",
            "    accuracy                           0.90       610\n",
            "   macro avg       0.91      0.85      0.87       610\n",
            "weighted avg       0.90      0.90      0.89       610\n",
            "\n"
          ]
        }
      ],
      "source": [
        "y_true = np.argmax(y_test, axis=1)\n",
        "pred = np.argmax(pred, axis=1)\n",
        "\n",
        "print(classification_report(y_true, pred))"
      ]
    },
    {
      "cell_type": "markdown",
      "metadata": {
        "id": "PctgQEt9izzI"
      },
      "source": [
        "## Hyper tuning to improve the baseline model"
      ]
    },
    {
      "cell_type": "markdown",
      "metadata": {
        "id": "0z0EtXOtZGqx"
      },
      "source": [
        "### converting the images to 256 x 256"
      ]
    },
    {
      "cell_type": "code",
      "execution_count": 56,
      "metadata": {
        "id": "ur2WgcX1ZGqy"
      },
      "outputs": [],
      "source": [
        "import os\n",
        "import h5py\n",
        "import numpy as np\n",
        "from PIL import Image\n",
        "import pandas as pd\n",
        "import cv2\n",
        "import SimpleITK as sitk\n",
        "# # List of directories to process\n",
        "# directories = [\n",
        "#     'brainTumorDataPublic_1-766',\n",
        "#     'brainTumorDataPublic_767-1532',\n",
        "#     'brainTumorDataPublic_1533-2298',\n",
        "#     'brainTumorDataPublic_2299-3064'\n",
        "# ]\n",
        "\n",
        "y_labels = []\n",
        "filename_column = []\n",
        "\n",
        "image_arrays = []\n",
        "image_classes = []\n",
        "image_size = 256\n",
        "\n",
        "\n",
        "# Set the paths for the Mat and Jpg folders\n",
        "mat_folder = f\"all_files/all_files\"\n",
        "# jpg_folder = f'./Jpg_images'\n",
        "\n",
        "# Create the Jpg folder if it doesn't exist\n",
        "# if not os.path.exists(jpg_folder):\n",
        "#     os.makedirs(jpg_folder)\n",
        "\n",
        "# Iterate through files in the Mat folder\n",
        "for filename in os.listdir(mat_folder):\n",
        "    # Construct the full file paths\n",
        "    mat_filepath = os.path.join(mat_folder, filename)\n",
        "    # jpg_filepath = os.path.join(jpg_folder, filename.split(\".\")[0] + '.jpg')\n",
        "\n",
        "    # Open the mat file\n",
        "    with h5py.File(mat_filepath, 'r+') as f:\n",
        "\n",
        "        cjdata = f['cjdata']\n",
        "        image = np.array(cjdata.get('image')).astype(np.float64)\n",
        "        label = cjdata.get('label')[0, 0]\n",
        "\n",
        "        if image.shape[0] == 512:\n",
        "\n",
        "            y_labels.append(label - 1)\n",
        "            filename_column.append(filename.split(\".\")[0])\n",
        "\n",
        "            # Perform image processing\n",
        "            hi = np.max(image)\n",
        "            lo = np.min(image)\n",
        "            image = (((image - lo) / (hi - lo)) * 255).astype(np.uint8)\n",
        "\n",
        "            image = cv2.resize(image, (image_size, image_size), interpolation=cv2.INTER_AREA)\n",
        "            image_arrays.append(image)\n",
        "            image_classes.append(label - 1)\n",
        "\n",
        "            # cv2.imwrite(jpg_filepath, image)\n",
        "            # t1_image = sitk.GetImageFromArray(image)\n",
        "            # sitk.WriteImage(t1_image, jpg_filepath)\n",
        "\n",
        "\n",
        "# df = pd.DataFrame({'filename':filename_column, 'label':y_labels})\n",
        "# df.to_csv('final_df.csv', index=False)"
      ]
    },
    {
      "cell_type": "markdown",
      "metadata": {
        "id": "Iwt-QZK5ZGqy"
      },
      "source": [
        "#### Sample image from an image array"
      ]
    },
    {
      "cell_type": "code",
      "execution_count": 57,
      "metadata": {
        "colab": {
          "base_uri": "https://localhost:8080/",
          "height": 273
        },
        "outputId": "512ac28c-6c85-4a9d-b3d9-944439f9d342",
        "id": "2Qaopk4uZGqy"
      },
      "outputs": [
        {
          "output_type": "execute_result",
          "data": {
            "text/plain": [
              "<PIL.Image.Image image mode=L size=256x256>"
            ],
            "image/png": "[encoded data removed]"
          },
          "metadata": {},
          "execution_count": 57
        }
      ],
      "source": [
        "Image.fromarray(image_arrays[0], 'L')"
      ]
    },
    {
      "cell_type": "markdown",
      "metadata": {
        "id": "g2s3stRhZGqy"
      },
      "source": [
        "### Data pre-processing"
      ]
    },
    {
      "cell_type": "markdown",
      "metadata": {
        "id": "iNKZB7HmZGqz"
      },
      "source": [
        "#### Image arrays got from previous step"
      ]
    },
    {
      "cell_type": "code",
      "execution_count": 58,
      "metadata": {
        "id": "L0z_nJpHZGqz"
      },
      "outputs": [],
      "source": [
        "image_arrays = np.array(image_arrays).astype(np.uint8)\n",
        "image_arrays = image_arrays.reshape(image_arrays.shape[0], image_size, image_size, 1)"
      ]
    },
    {
      "cell_type": "code",
      "execution_count": 59,
      "metadata": {
        "colab": {
          "base_uri": "https://localhost:8080/"
        },
        "outputId": "5828dce1-6884-4d75-e2f0-bf62d956bd2d",
        "id": "JeDHLH4vZGqz"
      },
      "outputs": [
        {
          "output_type": "execute_result",
          "data": {
            "text/plain": [
              "(3049, 256, 256, 1)"
            ]
          },
          "metadata": {},
          "execution_count": 59
        }
      ],
      "source": [
        "image_arrays.shape"
      ]
    },
    {
      "cell_type": "code",
      "execution_count": 60,
      "metadata": {
        "id": "ZZdimFllZGqz"
      },
      "outputs": [],
      "source": [
        "image_classes_encoded = tf.keras.utils.to_categorical(image_classes, 3)\n",
        "image_classes_encoded = image_classes_encoded.astype(np.uint8)"
      ]
    },
    {
      "cell_type": "code",
      "execution_count": 61,
      "metadata": {
        "colab": {
          "base_uri": "https://localhost:8080/"
        },
        "outputId": "249695ca-a879-450d-b8f3-02f47fe26292",
        "id": "IFjriA8-ZGqz"
      },
      "outputs": [
        {
          "output_type": "stream",
          "name": "stdout",
          "text": [
            "(3049, 256, 256, 1)\n",
            "(3049, 3)\n"
          ]
        }
      ],
      "source": [
        "print(image_arrays.shape)\n",
        "print(image_classes_encoded.shape)"
      ]
    },
    {
      "cell_type": "code",
      "source": [
        "x_train, x_test, y_train, y_test = train_test_split(image_arrays, image_classes_encoded, test_size=0.20, random_state=42)"
      ],
      "metadata": {
        "id": "2V0F9VFldYKf"
      },
      "execution_count": 73,
      "outputs": []
    },
    {
      "cell_type": "code",
      "execution_count": null,
      "metadata": {
        "id": "TT6gvrQ0jjaa"
      },
      "outputs": [],
      "source": [
        "!pip install keras_tuner"
      ]
    },
    {
      "cell_type": "markdown",
      "source": [
        "#### build model function"
      ],
      "metadata": {
        "id": "ZO44rFhOaTOz"
      }
    },
    {
      "cell_type": "code",
      "execution_count": 74,
      "metadata": {
        "id": "4iQALSNrjo3e"
      },
      "outputs": [],
      "source": [
        "import keras_tuner as kt"
      ]
    },
    {
      "cell_type": "code",
      "execution_count": 75,
      "metadata": {
        "id": "3RGI0k2ojS3J"
      },
      "outputs": [],
      "source": [
        "def build_model(hp):\n",
        "\n",
        "    model = Sequential()\n",
        "\n",
        "    model.add(Input(shape=(256, 256, 1)))\n",
        "    model.add(Rescaling(1./255))  # scale pixels\n",
        "\n",
        "    # Define the hyperparameters\n",
        "    num_cnn_layers = hp.Int('num_cnn_layers', min_value=2, max_value=7, step=1)\n",
        "    activation = hp.Choice('activation', values=['relu', 'gelu', 'tanh'])\n",
        "\n",
        "    optimizer_choice = hp.Choice('optimizer', values = ['adam', 'sgd'])\n",
        "    dense_units = hp.Int('dense_units', min_value=256, max_value=1024, step=256)\n",
        "\n",
        "\n",
        "    # leaving the first layer as it is in the baseline model\n",
        "    model.add(Conv2D(64, kernel_size=(5, 5), padding='same', strides=1, activation=activation))\n",
        "    model.add(MaxPooling2D(pool_size=(2, 2)))\n",
        "    model.add(Dropout(0.2))\n",
        "\n",
        "    for i in range(num_cnn_layers):\n",
        "        model.add(Conv2D(64, kernel_size=(2, 2), padding='same', strides=1, activation=activation))\n",
        "        model.add(MaxPooling2D(pool_size=(2, 2)))\n",
        "        model.add(Dropout(0.2))\n",
        "\n",
        "    model.add(Flatten())\n",
        "\n",
        "    model.add(Dense(units=dense_units, activation=activation))\n",
        "    model.add(Dense(3, activation='softmax'))\n",
        "\n",
        "    model.compile(optimizer=optimizer_choice, loss='categorical_crossentropy', metrics=['accuracy'])\n",
        "\n",
        "    return model"
      ]
    },
    {
      "cell_type": "markdown",
      "metadata": {
        "id": "eKOITlG4p-lQ"
      },
      "source": [
        "### Random Search"
      ]
    },
    {
      "cell_type": "code",
      "execution_count": 76,
      "metadata": {
        "id": "VPWe37o1jS3K"
      },
      "outputs": [],
      "source": [
        "checkpointer = ModelCheckpoint(filepath=\"rs_model.hdf5\", verbose=2, save_best_only=True, monitor='val_loss')\n",
        "monitor = EarlyStopping(monitor='val_loss', min_delta=1e-3, patience=10, verbose=2, mode='auto')"
      ]
    },
    {
      "cell_type": "code",
      "execution_count": 77,
      "metadata": {
        "id": "R1ZAonK5jS3J",
        "colab": {
          "base_uri": "https://localhost:8080/"
        },
        "outputId": "b24a6be4-9e7a-4795-abbb-c8fdd24b2574"
      },
      "outputs": [
        {
          "output_type": "stream",
          "name": "stdout",
          "text": [
            "Reloading Tuner from my_dir_rs/my_project_rs/tuner0.json\n"
          ]
        }
      ],
      "source": [
        "tuner = kt.RandomSearch(\n",
        "    hypermodel=build_model,\n",
        "    objective='val_loss',\n",
        "    max_trials=20,\n",
        "    max_retries_per_trial=1,\n",
        "    max_consecutive_failed_trials=3,\n",
        "    directory='my_dir_rs',\n",
        "    project_name='my_project_rs'\n",
        ")\n"
      ]
    },
    {
      "cell_type": "code",
      "execution_count": 78,
      "metadata": {
        "colab": {
          "base_uri": "https://localhost:8080/"
        },
        "id": "1XuYzjo4jS3K",
        "outputId": "cbb216fd-4bf0-4ddf-d7a0-bc8df9fbbea1"
      },
      "outputs": [
        {
          "output_type": "stream",
          "name": "stdout",
          "text": [
            "Trial 20 Complete [00h 03m 19s]\n",
            "val_loss: 0.24237263202667236\n",
            "\n",
            "Best val_loss So Far: 0.11293075978755951\n",
            "Total elapsed time: 00h 52m 16s\n"
          ]
        }
      ],
      "source": [
        "tuner.search(x_train, y_train, epochs=50, validation_data=(x_test, y_test), callbacks=[monitor], batch_size=32)"
      ]
    },
    {
      "cell_type": "code",
      "execution_count": 79,
      "metadata": {
        "colab": {
          "base_uri": "https://localhost:8080/"
        },
        "id": "_RZSOEVHkEKk",
        "outputId": "0a5bbff8-e76f-4b89-87ac-c9895adec8a2"
      },
      "outputs": [
        {
          "output_type": "stream",
          "name": "stdout",
          "text": [
            "{'num_cnn_layers': 5, 'activation': 'gelu', 'optimizer': 'adam', 'dense_units': 512}\n"
          ]
        }
      ],
      "source": [
        "best_hps = tuner.get_best_hyperparameters(num_trials=1)[0]\n",
        "print(best_hps.values)"
      ]
    },
    {
      "cell_type": "code",
      "execution_count": 80,
      "metadata": {
        "colab": {
          "base_uri": "https://localhost:8080/"
        },
        "id": "JScFXtX4jS3K",
        "outputId": "c48b5a75-55ff-48fa-abc2-f41a48442109"
      },
      "outputs": [
        {
          "output_type": "stream",
          "name": "stdout",
          "text": [
            "Epoch 1/50\n",
            "76/77 [============================>.] - ETA: 0s - loss: 0.9030 - accuracy: 0.5909\n",
            "Epoch 1: val_loss improved from inf to 0.71010, saving model to rs_model.hdf5\n",
            "77/77 [==============================] - 10s 91ms/step - loss: 0.9040 - accuracy: 0.5908 - val_loss: 0.7101 - val_accuracy: 0.7098\n",
            "Epoch 2/50\n",
            " 1/77 [..............................] - ETA: 6s - loss: 0.7110 - accuracy: 0.6875"
          ]
        },
        {
          "output_type": "stream",
          "name": "stderr",
          "text": [
            "/usr/local/lib/python3.10/dist-packages/keras/src/engine/training.py:3079: UserWarning: You are saving your model as an HDF5 file via `model.save()`. This file format is considered legacy. We recommend using instead the native Keras format, e.g. `model.save('my_model.keras')`.\n",
            "  saving_api.save_model(\n"
          ]
        },
        {
          "output_type": "stream",
          "name": "stdout",
          "text": [
            "76/77 [============================>.] - ETA: 0s - loss: 0.6289 - accuracy: 0.7109\n",
            "Epoch 2: val_loss improved from 0.71010 to 0.57264, saving model to rs_model.hdf5\n",
            "77/77 [==============================] - 7s 86ms/step - loss: 0.6282 - accuracy: 0.7114 - val_loss: 0.5726 - val_accuracy: 0.7525\n",
            "Epoch 3/50\n",
            "76/77 [============================>.] - ETA: 0s - loss: 0.5385 - accuracy: 0.7599\n",
            "Epoch 3: val_loss improved from 0.57264 to 0.51738, saving model to rs_model.hdf5\n",
            "77/77 [==============================] - 7s 86ms/step - loss: 0.5378 - accuracy: 0.7601 - val_loss: 0.5174 - val_accuracy: 0.7705\n",
            "Epoch 4/50\n",
            "76/77 [============================>.] - ETA: 0s - loss: 0.4479 - accuracy: 0.7919\n",
            "Epoch 4: val_loss improved from 0.51738 to 0.44273, saving model to rs_model.hdf5\n",
            "77/77 [==============================] - 7s 86ms/step - loss: 0.4482 - accuracy: 0.7917 - val_loss: 0.4427 - val_accuracy: 0.8082\n",
            "Epoch 5/50\n",
            "76/77 [============================>.] - ETA: 0s - loss: 0.4142 - accuracy: 0.8125\n",
            "Epoch 5: val_loss improved from 0.44273 to 0.35138, saving model to rs_model.hdf5\n",
            "77/77 [==============================] - 7s 87ms/step - loss: 0.4136 - accuracy: 0.8130 - val_loss: 0.3514 - val_accuracy: 0.8426\n",
            "Epoch 6/50\n",
            "76/77 [============================>.] - ETA: 0s - loss: 0.4035 - accuracy: 0.8207\n",
            "Epoch 6: val_loss did not improve from 0.35138\n",
            "77/77 [==============================] - 7s 85ms/step - loss: 0.4031 - accuracy: 0.8212 - val_loss: 0.5944 - val_accuracy: 0.7607\n",
            "Epoch 7/50\n",
            "76/77 [============================>.] - ETA: 0s - loss: 0.3687 - accuracy: 0.8277\n",
            "Epoch 7: val_loss did not improve from 0.35138\n",
            "77/77 [==============================] - 7s 86ms/step - loss: 0.3695 - accuracy: 0.8274 - val_loss: 0.3744 - val_accuracy: 0.8344\n",
            "Epoch 8/50\n",
            "76/77 [============================>.] - ETA: 0s - loss: 0.3274 - accuracy: 0.8577\n",
            "Epoch 8: val_loss improved from 0.35138 to 0.32052, saving model to rs_model.hdf5\n",
            "77/77 [==============================] - 7s 86ms/step - loss: 0.3271 - accuracy: 0.8577 - val_loss: 0.3205 - val_accuracy: 0.8639\n",
            "Epoch 9/50\n",
            "76/77 [============================>.] - ETA: 0s - loss: 0.2837 - accuracy: 0.8791\n",
            "Epoch 9: val_loss did not improve from 0.32052\n",
            "77/77 [==============================] - 7s 86ms/step - loss: 0.2837 - accuracy: 0.8790 - val_loss: 0.4980 - val_accuracy: 0.8262\n",
            "Epoch 10/50\n",
            "76/77 [============================>.] - ETA: 0s - loss: 0.2805 - accuracy: 0.8898\n",
            "Epoch 10: val_loss improved from 0.32052 to 0.24479, saving model to rs_model.hdf5\n",
            "77/77 [==============================] - 7s 86ms/step - loss: 0.2811 - accuracy: 0.8897 - val_loss: 0.2448 - val_accuracy: 0.8951\n",
            "Epoch 11/50\n",
            "76/77 [============================>.] - ETA: 0s - loss: 0.2220 - accuracy: 0.9095\n",
            "Epoch 11: val_loss did not improve from 0.24479\n",
            "77/77 [==============================] - 7s 86ms/step - loss: 0.2234 - accuracy: 0.9086 - val_loss: 0.3259 - val_accuracy: 0.8492\n",
            "Epoch 12/50\n",
            "76/77 [============================>.] - ETA: 0s - loss: 0.2056 - accuracy: 0.9202\n",
            "Epoch 12: val_loss did not improve from 0.24479\n",
            "77/77 [==============================] - 7s 85ms/step - loss: 0.2057 - accuracy: 0.9205 - val_loss: 0.3611 - val_accuracy: 0.8623\n",
            "Epoch 13/50\n",
            "76/77 [============================>.] - ETA: 0s - loss: 0.2228 - accuracy: 0.9050\n",
            "Epoch 13: val_loss improved from 0.24479 to 0.20795, saving model to rs_model.hdf5\n",
            "77/77 [==============================] - 7s 87ms/step - loss: 0.2222 - accuracy: 0.9053 - val_loss: 0.2079 - val_accuracy: 0.9262\n",
            "Epoch 14/50\n",
            "76/77 [============================>.] - ETA: 0s - loss: 0.1649 - accuracy: 0.9391\n",
            "Epoch 14: val_loss did not improve from 0.20795\n",
            "77/77 [==============================] - 7s 86ms/step - loss: 0.1646 - accuracy: 0.9393 - val_loss: 0.2426 - val_accuracy: 0.9033\n",
            "Epoch 15/50\n",
            "76/77 [============================>.] - ETA: 0s - loss: 0.1729 - accuracy: 0.9334\n",
            "Epoch 15: val_loss improved from 0.20795 to 0.18695, saving model to rs_model.hdf5\n",
            "77/77 [==============================] - 7s 86ms/step - loss: 0.1726 - accuracy: 0.9336 - val_loss: 0.1870 - val_accuracy: 0.9311\n",
            "Epoch 16/50\n",
            "76/77 [============================>.] - ETA: 0s - loss: 0.1240 - accuracy: 0.9544\n",
            "Epoch 16: val_loss did not improve from 0.18695\n",
            "77/77 [==============================] - 7s 86ms/step - loss: 0.1237 - accuracy: 0.9545 - val_loss: 0.3164 - val_accuracy: 0.8885\n",
            "Epoch 17/50\n",
            "76/77 [============================>.] - ETA: 0s - loss: 0.1111 - accuracy: 0.9576\n",
            "Epoch 17: val_loss improved from 0.18695 to 0.17837, saving model to rs_model.hdf5\n",
            "77/77 [==============================] - 7s 86ms/step - loss: 0.1110 - accuracy: 0.9578 - val_loss: 0.1784 - val_accuracy: 0.9393\n",
            "Epoch 18/50\n",
            "76/77 [============================>.] - ETA: 0s - loss: 0.1054 - accuracy: 0.9630\n",
            "Epoch 18: val_loss improved from 0.17837 to 0.16774, saving model to rs_model.hdf5\n",
            "77/77 [==============================] - 7s 86ms/step - loss: 0.1058 - accuracy: 0.9627 - val_loss: 0.1677 - val_accuracy: 0.9459\n",
            "Epoch 19/50\n",
            "76/77 [============================>.] - ETA: 0s - loss: 0.1050 - accuracy: 0.9564\n",
            "Epoch 19: val_loss did not improve from 0.16774\n",
            "77/77 [==============================] - 7s 86ms/step - loss: 0.1048 - accuracy: 0.9565 - val_loss: 0.1858 - val_accuracy: 0.9426\n",
            "Epoch 20/50\n",
            "76/77 [============================>.] - ETA: 0s - loss: 0.1118 - accuracy: 0.9638\n",
            "Epoch 20: val_loss did not improve from 0.16774\n",
            "77/77 [==============================] - 7s 86ms/step - loss: 0.1123 - accuracy: 0.9631 - val_loss: 0.1981 - val_accuracy: 0.9230\n",
            "Epoch 21/50\n",
            "76/77 [============================>.] - ETA: 0s - loss: 0.0777 - accuracy: 0.9741\n",
            "Epoch 21: val_loss improved from 0.16774 to 0.13842, saving model to rs_model.hdf5\n",
            "77/77 [==============================] - 7s 86ms/step - loss: 0.0775 - accuracy: 0.9742 - val_loss: 0.1384 - val_accuracy: 0.9590\n",
            "Epoch 22/50\n",
            "76/77 [============================>.] - ETA: 0s - loss: 0.0700 - accuracy: 0.9753\n",
            "Epoch 22: val_loss did not improve from 0.13842\n",
            "77/77 [==============================] - 7s 86ms/step - loss: 0.0699 - accuracy: 0.9754 - val_loss: 0.1850 - val_accuracy: 0.9410\n",
            "Epoch 23/50\n",
            "76/77 [============================>.] - ETA: 0s - loss: 0.0509 - accuracy: 0.9815\n",
            "Epoch 23: val_loss did not improve from 0.13842\n",
            "77/77 [==============================] - 7s 85ms/step - loss: 0.0508 - accuracy: 0.9815 - val_loss: 0.1783 - val_accuracy: 0.9443\n",
            "Epoch 24/50\n",
            "76/77 [============================>.] - ETA: 0s - loss: 0.0654 - accuracy: 0.9741\n",
            "Epoch 24: val_loss did not improve from 0.13842\n",
            "77/77 [==============================] - 7s 86ms/step - loss: 0.0654 - accuracy: 0.9742 - val_loss: 0.2089 - val_accuracy: 0.9328\n",
            "Epoch 25/50\n",
            "76/77 [============================>.] - ETA: 0s - loss: 0.0651 - accuracy: 0.9766\n",
            "Epoch 25: val_loss did not improve from 0.13842\n",
            "77/77 [==============================] - 7s 85ms/step - loss: 0.0656 - accuracy: 0.9762 - val_loss: 0.1665 - val_accuracy: 0.9377\n",
            "Epoch 26/50\n",
            "76/77 [============================>.] - ETA: 0s - loss: 0.0561 - accuracy: 0.9819\n",
            "Epoch 26: val_loss did not improve from 0.13842\n",
            "77/77 [==============================] - 7s 86ms/step - loss: 0.0559 - accuracy: 0.9820 - val_loss: 0.1459 - val_accuracy: 0.9672\n",
            "Epoch 27/50\n",
            "76/77 [============================>.] - ETA: 0s - loss: 0.0359 - accuracy: 0.9877\n",
            "Epoch 27: val_loss did not improve from 0.13842\n",
            "77/77 [==============================] - 7s 86ms/step - loss: 0.0358 - accuracy: 0.9877 - val_loss: 0.1769 - val_accuracy: 0.9492\n",
            "Epoch 28/50\n",
            "76/77 [============================>.] - ETA: 0s - loss: 0.0404 - accuracy: 0.9873\n",
            "Epoch 28: val_loss did not improve from 0.13842\n",
            "77/77 [==============================] - 7s 86ms/step - loss: 0.0403 - accuracy: 0.9873 - val_loss: 0.2581 - val_accuracy: 0.9246\n",
            "Epoch 29/50\n",
            "76/77 [============================>.] - ETA: 0s - loss: 0.0400 - accuracy: 0.9856\n",
            "Epoch 29: val_loss did not improve from 0.13842\n",
            "77/77 [==============================] - 7s 86ms/step - loss: 0.0399 - accuracy: 0.9856 - val_loss: 0.1447 - val_accuracy: 0.9525\n",
            "Epoch 30/50\n",
            "76/77 [============================>.] - ETA: 0s - loss: 0.0471 - accuracy: 0.9840\n",
            "Epoch 30: val_loss did not improve from 0.13842\n",
            "77/77 [==============================] - 7s 86ms/step - loss: 0.0470 - accuracy: 0.9840 - val_loss: 0.1733 - val_accuracy: 0.9590\n",
            "Epoch 31/50\n",
            "76/77 [============================>.] - ETA: 0s - loss: 0.0476 - accuracy: 0.9807\n",
            "Epoch 31: val_loss did not improve from 0.13842\n",
            "77/77 [==============================] - 7s 86ms/step - loss: 0.0475 - accuracy: 0.9807 - val_loss: 0.2595 - val_accuracy: 0.9279\n",
            "Epoch 31: early stopping\n"
          ]
        }
      ],
      "source": [
        "model = tuner.hypermodel.build(best_hps)\n",
        "history = model.fit(x_train, y_train, epochs=50, validation_data=(x_test, y_test), callbacks=[monitor, checkpointer], batch_size=32)"
      ]
    },
    {
      "cell_type": "code",
      "source": [
        "training_loss = history.history['loss']\n",
        "validation_loss = history.history['val_loss']\n",
        "\n",
        "epochs = range(1, len(training_loss) + 1)\n",
        "\n",
        "plt.plot(epochs, training_loss, label='Training Loss')\n",
        "plt.plot(epochs, validation_loss, label='Validation Loss')\n",
        "\n",
        "plt.title('Training and Validation Loss - Random Search Model')\n",
        "plt.xlabel('Epochs')\n",
        "plt.ylabel('Loss')\n",
        "\n",
        "plt.legend()\n",
        "plt.show()\n"
      ],
      "metadata": {
        "colab": {
          "base_uri": "https://localhost:8080/",
          "height": 472
        },
        "id": "YOcqkOUTd0uw",
        "outputId": "195b6187-4665-4787-b8e1-cef7ac173a56"
      },
      "execution_count": 81,
      "outputs": [
        {
          "output_type": "display_data",
          "data": {
            "text/plain": [
              "<Figure size 640x480 with 1 Axes>"
            ],
            "image/png": "[encoded data removed]"
          },
          "metadata": {}
        }
      ]
    },
    {
      "cell_type": "code",
      "execution_count": 82,
      "metadata": {
        "colab": {
          "base_uri": "https://localhost:8080/"
        },
        "id": "dFDK9U_xjS3L",
        "outputId": "5fdd3953-316a-43c0-ce2b-bd2613bf7f2d"
      },
      "outputs": [
        {
          "output_type": "stream",
          "name": "stdout",
          "text": [
            "20/20 [==============================] - 0s 18ms/step\n"
          ]
        },
        {
          "output_type": "execute_result",
          "data": {
            "text/plain": [
              "array([[9.8383927e-01, 2.1711702e-04, 1.5943691e-02],\n",
              "       [2.1920211e-03, 9.9780291e-01, 5.1616971e-06],\n",
              "       [4.8226636e-02, 9.5164913e-01, 1.2425712e-04],\n",
              "       ...,\n",
              "       [9.5611799e-01, 4.3881249e-02, 8.3595768e-07],\n",
              "       [3.5734331e-05, 7.3713844e-04, 9.9922717e-01],\n",
              "       [9.3242825e-06, 9.9962330e-01, 3.6738257e-04]], dtype=float32)"
            ]
          },
          "metadata": {},
          "execution_count": 82
        }
      ],
      "source": [
        "model.load_weights(\"rs_model.hdf5\")\n",
        "pred = model.predict(x_test)\n",
        "pred"
      ]
    },
    {
      "cell_type": "code",
      "execution_count": 83,
      "metadata": {
        "colab": {
          "base_uri": "https://localhost:8080/"
        },
        "id": "ytVB3aw7jS3L",
        "outputId": "18e6fffe-6d35-439d-93e2-499e7e7da025"
      },
      "outputs": [
        {
          "output_type": "stream",
          "name": "stdout",
          "text": [
            "              precision    recall  f1-score   support\n",
            "\n",
            "           0       0.92      0.89      0.90       128\n",
            "           1       0.96      0.97      0.97       304\n",
            "           2       0.98      0.99      0.98       178\n",
            "\n",
            "    accuracy                           0.96       610\n",
            "   macro avg       0.95      0.95      0.95       610\n",
            "weighted avg       0.96      0.96      0.96       610\n",
            "\n"
          ]
        }
      ],
      "source": [
        "y_true = np.argmax(y_test, axis=1)\n",
        "pred = np.argmax(pred, axis=1)\n",
        "\n",
        "print(classification_report(y_true, pred))"
      ]
    },
    {
      "cell_type": "code",
      "source": [
        "rs_model_result = classification_report(y_true, pred, output_dict=True)"
      ],
      "metadata": {
        "id": "mmq7CSdw3IKI"
      },
      "execution_count": 84,
      "outputs": []
    },
    {
      "cell_type": "markdown",
      "metadata": {
        "id": "2Gg2f4_6qIdG"
      },
      "source": [
        "### Hyperband"
      ]
    },
    {
      "cell_type": "code",
      "execution_count": 85,
      "metadata": {
        "id": "oI-tkmFY0UKN"
      },
      "outputs": [],
      "source": [
        "checkpointer = ModelCheckpoint(filepath=\"hb_model.hdf5\", verbose=2, save_best_only=True, monitor='val_loss')\n",
        "monitor = EarlyStopping(monitor='val_loss', min_delta=1e-3, patience=10, verbose=2, mode='auto')"
      ]
    },
    {
      "cell_type": "code",
      "execution_count": 86,
      "metadata": {
        "id": "OQWDri_pqRDc"
      },
      "outputs": [],
      "source": [
        "tuner = kt.Hyperband(\n",
        "    hypermodel=build_model,\n",
        "    objective='val_loss',\n",
        "    max_epochs=20,\n",
        "    factor=3,\n",
        "    max_retries_per_trial=1,\n",
        "    max_consecutive_failed_trials=3,\n",
        "    directory='my_dir_hb',\n",
        "    project_name='my_project_hb'\n",
        ")\n"
      ]
    },
    {
      "cell_type": "code",
      "execution_count": 87,
      "metadata": {
        "colab": {
          "base_uri": "https://localhost:8080/"
        },
        "id": "I774ML4GPvFR",
        "outputId": "5d37150a-e553-4c8b-8b66-70908ad3a06a"
      },
      "outputs": [
        {
          "output_type": "stream",
          "name": "stdout",
          "text": [
            "Trial 30 Complete [00h 02m 16s]\n",
            "val_loss: 0.2296355962753296\n",
            "\n",
            "Best val_loss So Far: 0.14242056012153625\n",
            "Total elapsed time: 00h 20m 12s\n"
          ]
        }
      ],
      "source": [
        "tuner.search(x_train, y_train, epochs=30, validation_data=(x_test, y_test), callbacks=[monitor], batch_size=32)"
      ]
    },
    {
      "cell_type": "code",
      "execution_count": 88,
      "metadata": {
        "colab": {
          "base_uri": "https://localhost:8080/"
        },
        "id": "8FKisl4VREbx",
        "outputId": "4d5a1dff-d851-4c3d-8e60-021659e4d1d2"
      },
      "outputs": [
        {
          "output_type": "stream",
          "name": "stdout",
          "text": [
            "{'num_cnn_layers': 4, 'activation': 'relu', 'optimizer': 'adam', 'dense_units': 768, 'tuner/epochs': 20, 'tuner/initial_epoch': 7, 'tuner/bracket': 2, 'tuner/round': 2, 'tuner/trial_id': '0014'}\n"
          ]
        }
      ],
      "source": [
        "best_hps_hb = tuner.get_best_hyperparameters(num_trials=1)[0]\n",
        "print(best_hps_hb.values)"
      ]
    },
    {
      "cell_type": "code",
      "execution_count": 89,
      "metadata": {
        "colab": {
          "base_uri": "https://localhost:8080/"
        },
        "id": "NCDl61SDVUWX",
        "outputId": "c1217ec4-b428-4d18-8123-a3243bf7670f"
      },
      "outputs": [
        {
          "output_type": "stream",
          "name": "stdout",
          "text": [
            "Epoch 1/50\n",
            "76/77 [============================>.] - ETA: 0s - loss: 0.8002 - accuracy: 0.6439\n",
            "Epoch 1: val_loss improved from inf to 0.62298, saving model to hb_model.hdf5\n",
            "77/77 [==============================] - 6s 53ms/step - loss: 0.7994 - accuracy: 0.6445 - val_loss: 0.6230 - val_accuracy: 0.7197\n",
            "Epoch 2/50\n",
            " 1/77 [..............................] - ETA: 3s - loss: 0.6171 - accuracy: 0.6562"
          ]
        },
        {
          "output_type": "stream",
          "name": "stderr",
          "text": [
            "/usr/local/lib/python3.10/dist-packages/keras/src/engine/training.py:3079: UserWarning: You are saving your model as an HDF5 file via `model.save()`. This file format is considered legacy. We recommend using instead the native Keras format, e.g. `model.save('my_model.keras')`.\n",
            "  saving_api.save_model(\n"
          ]
        },
        {
          "output_type": "stream",
          "name": "stdout",
          "text": [
            "77/77 [==============================] - ETA: 0s - loss: 0.5949 - accuracy: 0.7372\n",
            "Epoch 2: val_loss did not improve from 0.62298\n",
            "77/77 [==============================] - 4s 48ms/step - loss: 0.5949 - accuracy: 0.7372 - val_loss: 0.8025 - val_accuracy: 0.6311\n",
            "Epoch 3/50\n",
            "77/77 [==============================] - ETA: 0s - loss: 0.4974 - accuracy: 0.7708\n",
            "Epoch 3: val_loss improved from 0.62298 to 0.49417, saving model to hb_model.hdf5\n",
            "77/77 [==============================] - 4s 48ms/step - loss: 0.4974 - accuracy: 0.7708 - val_loss: 0.4942 - val_accuracy: 0.7885\n",
            "Epoch 4/50\n",
            "77/77 [==============================] - ETA: 0s - loss: 0.3938 - accuracy: 0.8270\n",
            "Epoch 4: val_loss improved from 0.49417 to 0.45649, saving model to hb_model.hdf5\n",
            "77/77 [==============================] - 4s 48ms/step - loss: 0.3938 - accuracy: 0.8270 - val_loss: 0.4565 - val_accuracy: 0.8049\n",
            "Epoch 5/50\n",
            "77/77 [==============================] - ETA: 0s - loss: 0.3713 - accuracy: 0.8372\n",
            "Epoch 5: val_loss improved from 0.45649 to 0.36950, saving model to hb_model.hdf5\n",
            "77/77 [==============================] - 4s 48ms/step - loss: 0.3713 - accuracy: 0.8372 - val_loss: 0.3695 - val_accuracy: 0.8311\n",
            "Epoch 6/50\n",
            "77/77 [==============================] - ETA: 0s - loss: 0.3000 - accuracy: 0.8708\n",
            "Epoch 6: val_loss improved from 0.36950 to 0.35272, saving model to hb_model.hdf5\n",
            "77/77 [==============================] - 4s 49ms/step - loss: 0.3000 - accuracy: 0.8708 - val_loss: 0.3527 - val_accuracy: 0.8492\n",
            "Epoch 7/50\n",
            "77/77 [==============================] - ETA: 0s - loss: 0.2694 - accuracy: 0.8905\n",
            "Epoch 7: val_loss did not improve from 0.35272\n",
            "77/77 [==============================] - 4s 47ms/step - loss: 0.2694 - accuracy: 0.8905 - val_loss: 0.4146 - val_accuracy: 0.8213\n",
            "Epoch 8/50\n",
            "77/77 [==============================] - ETA: 0s - loss: 0.2329 - accuracy: 0.9049\n",
            "Epoch 8: val_loss did not improve from 0.35272\n",
            "77/77 [==============================] - 4s 47ms/step - loss: 0.2329 - accuracy: 0.9049 - val_loss: 0.3803 - val_accuracy: 0.8377\n",
            "Epoch 9/50\n",
            "77/77 [==============================] - ETA: 0s - loss: 0.2037 - accuracy: 0.9192\n",
            "Epoch 9: val_loss did not improve from 0.35272\n",
            "77/77 [==============================] - 4s 47ms/step - loss: 0.2037 - accuracy: 0.9192 - val_loss: 0.3555 - val_accuracy: 0.8607\n",
            "Epoch 10/50\n",
            "77/77 [==============================] - ETA: 0s - loss: 0.1719 - accuracy: 0.9274\n",
            "Epoch 10: val_loss improved from 0.35272 to 0.22452, saving model to hb_model.hdf5\n",
            "77/77 [==============================] - 4s 48ms/step - loss: 0.1719 - accuracy: 0.9274 - val_loss: 0.2245 - val_accuracy: 0.9131\n",
            "Epoch 11/50\n",
            "77/77 [==============================] - ETA: 0s - loss: 0.1630 - accuracy: 0.9397\n",
            "Epoch 11: val_loss improved from 0.22452 to 0.20397, saving model to hb_model.hdf5\n",
            "77/77 [==============================] - 4s 48ms/step - loss: 0.1630 - accuracy: 0.9397 - val_loss: 0.2040 - val_accuracy: 0.9164\n",
            "Epoch 12/50\n",
            "77/77 [==============================] - ETA: 0s - loss: 0.1391 - accuracy: 0.9463\n",
            "Epoch 12: val_loss did not improve from 0.20397\n",
            "77/77 [==============================] - 4s 47ms/step - loss: 0.1391 - accuracy: 0.9463 - val_loss: 0.2830 - val_accuracy: 0.8934\n",
            "Epoch 13/50\n",
            "77/77 [==============================] - ETA: 0s - loss: 0.1230 - accuracy: 0.9500\n",
            "Epoch 13: val_loss did not improve from 0.20397\n",
            "77/77 [==============================] - 4s 46ms/step - loss: 0.1230 - accuracy: 0.9500 - val_loss: 0.2564 - val_accuracy: 0.9049\n",
            "Epoch 14/50\n",
            "77/77 [==============================] - ETA: 0s - loss: 0.0925 - accuracy: 0.9639\n",
            "Epoch 14: val_loss improved from 0.20397 to 0.20040, saving model to hb_model.hdf5\n",
            "77/77 [==============================] - 4s 48ms/step - loss: 0.0925 - accuracy: 0.9639 - val_loss: 0.2004 - val_accuracy: 0.9049\n",
            "Epoch 15/50\n",
            "77/77 [==============================] - ETA: 0s - loss: 0.0785 - accuracy: 0.9697\n",
            "Epoch 15: val_loss did not improve from 0.20040\n",
            "77/77 [==============================] - 4s 47ms/step - loss: 0.0785 - accuracy: 0.9697 - val_loss: 0.2046 - val_accuracy: 0.9344\n",
            "Epoch 16/50\n",
            "77/77 [==============================] - ETA: 0s - loss: 0.0884 - accuracy: 0.9688\n",
            "Epoch 16: val_loss improved from 0.20040 to 0.17145, saving model to hb_model.hdf5\n",
            "77/77 [==============================] - 4s 48ms/step - loss: 0.0884 - accuracy: 0.9688 - val_loss: 0.1715 - val_accuracy: 0.9393\n",
            "Epoch 17/50\n",
            "77/77 [==============================] - ETA: 0s - loss: 0.1095 - accuracy: 0.9590\n",
            "Epoch 17: val_loss did not improve from 0.17145\n",
            "77/77 [==============================] - 4s 46ms/step - loss: 0.1095 - accuracy: 0.9590 - val_loss: 0.2231 - val_accuracy: 0.9295\n",
            "Epoch 18/50\n",
            "77/77 [==============================] - ETA: 0s - loss: 0.1023 - accuracy: 0.9664\n",
            "Epoch 18: val_loss did not improve from 0.17145\n",
            "77/77 [==============================] - 4s 47ms/step - loss: 0.1023 - accuracy: 0.9664 - val_loss: 0.1782 - val_accuracy: 0.9262\n",
            "Epoch 19/50\n",
            "77/77 [==============================] - ETA: 0s - loss: 0.0553 - accuracy: 0.9815\n",
            "Epoch 19: val_loss did not improve from 0.17145\n",
            "77/77 [==============================] - 4s 47ms/step - loss: 0.0553 - accuracy: 0.9815 - val_loss: 0.1936 - val_accuracy: 0.9279\n",
            "Epoch 20/50\n",
            "77/77 [==============================] - ETA: 0s - loss: 0.0506 - accuracy: 0.9799\n",
            "Epoch 20: val_loss did not improve from 0.17145\n",
            "77/77 [==============================] - 4s 47ms/step - loss: 0.0506 - accuracy: 0.9799 - val_loss: 0.1876 - val_accuracy: 0.9361\n",
            "Epoch 21/50\n",
            "77/77 [==============================] - ETA: 0s - loss: 0.0449 - accuracy: 0.9840\n",
            "Epoch 21: val_loss did not improve from 0.17145\n",
            "77/77 [==============================] - 4s 47ms/step - loss: 0.0449 - accuracy: 0.9840 - val_loss: 0.1723 - val_accuracy: 0.9377\n",
            "Epoch 22/50\n",
            "77/77 [==============================] - ETA: 0s - loss: 0.0331 - accuracy: 0.9893\n",
            "Epoch 22: val_loss did not improve from 0.17145\n",
            "77/77 [==============================] - 4s 46ms/step - loss: 0.0331 - accuracy: 0.9893 - val_loss: 0.1724 - val_accuracy: 0.9443\n",
            "Epoch 23/50\n",
            "77/77 [==============================] - ETA: 0s - loss: 0.0360 - accuracy: 0.9869\n",
            "Epoch 23: val_loss improved from 0.17145 to 0.15998, saving model to hb_model.hdf5\n",
            "77/77 [==============================] - 4s 47ms/step - loss: 0.0360 - accuracy: 0.9869 - val_loss: 0.1600 - val_accuracy: 0.9492\n",
            "Epoch 24/50\n",
            "77/77 [==============================] - ETA: 0s - loss: 0.0410 - accuracy: 0.9869\n",
            "Epoch 24: val_loss did not improve from 0.15998\n",
            "77/77 [==============================] - 4s 46ms/step - loss: 0.0410 - accuracy: 0.9869 - val_loss: 0.2009 - val_accuracy: 0.9295\n",
            "Epoch 25/50\n",
            "77/77 [==============================] - ETA: 0s - loss: 0.0232 - accuracy: 0.9910\n",
            "Epoch 25: val_loss did not improve from 0.15998\n",
            "77/77 [==============================] - 4s 47ms/step - loss: 0.0232 - accuracy: 0.9910 - val_loss: 0.1906 - val_accuracy: 0.9426\n",
            "Epoch 26/50\n",
            "77/77 [==============================] - ETA: 0s - loss: 0.0410 - accuracy: 0.9881\n",
            "Epoch 26: val_loss did not improve from 0.15998\n",
            "77/77 [==============================] - 4s 47ms/step - loss: 0.0410 - accuracy: 0.9881 - val_loss: 0.2556 - val_accuracy: 0.9180\n",
            "Epoch 27/50\n",
            "77/77 [==============================] - ETA: 0s - loss: 0.0478 - accuracy: 0.9840\n",
            "Epoch 27: val_loss improved from 0.15998 to 0.14406, saving model to hb_model.hdf5\n",
            "77/77 [==============================] - 4s 47ms/step - loss: 0.0478 - accuracy: 0.9840 - val_loss: 0.1441 - val_accuracy: 0.9475\n",
            "Epoch 28/50\n",
            "77/77 [==============================] - ETA: 0s - loss: 0.0182 - accuracy: 0.9943\n",
            "Epoch 28: val_loss did not improve from 0.14406\n",
            "77/77 [==============================] - 4s 46ms/step - loss: 0.0182 - accuracy: 0.9943 - val_loss: 0.2424 - val_accuracy: 0.9311\n",
            "Epoch 29/50\n",
            "77/77 [==============================] - ETA: 0s - loss: 0.0321 - accuracy: 0.9910\n",
            "Epoch 29: val_loss did not improve from 0.14406\n",
            "77/77 [==============================] - 4s 46ms/step - loss: 0.0321 - accuracy: 0.9910 - val_loss: 0.1489 - val_accuracy: 0.9492\n",
            "Epoch 30/50\n",
            "77/77 [==============================] - ETA: 0s - loss: 0.0130 - accuracy: 0.9951\n",
            "Epoch 30: val_loss did not improve from 0.14406\n",
            "77/77 [==============================] - 4s 47ms/step - loss: 0.0130 - accuracy: 0.9951 - val_loss: 0.1633 - val_accuracy: 0.9541\n",
            "Epoch 31/50\n",
            "77/77 [==============================] - ETA: 0s - loss: 0.0359 - accuracy: 0.9877\n",
            "Epoch 31: val_loss did not improve from 0.14406\n",
            "77/77 [==============================] - 4s 46ms/step - loss: 0.0359 - accuracy: 0.9877 - val_loss: 0.1482 - val_accuracy: 0.9492\n",
            "Epoch 32/50\n",
            "77/77 [==============================] - ETA: 0s - loss: 0.0358 - accuracy: 0.9897\n",
            "Epoch 32: val_loss did not improve from 0.14406\n",
            "77/77 [==============================] - 4s 46ms/step - loss: 0.0358 - accuracy: 0.9897 - val_loss: 0.1998 - val_accuracy: 0.9361\n",
            "Epoch 33/50\n",
            "77/77 [==============================] - ETA: 0s - loss: 0.0119 - accuracy: 0.9947\n",
            "Epoch 33: val_loss did not improve from 0.14406\n",
            "77/77 [==============================] - 4s 46ms/step - loss: 0.0119 - accuracy: 0.9947 - val_loss: 0.1821 - val_accuracy: 0.9393\n",
            "Epoch 34/50\n",
            "77/77 [==============================] - ETA: 0s - loss: 0.0212 - accuracy: 0.9922\n",
            "Epoch 34: val_loss did not improve from 0.14406\n",
            "77/77 [==============================] - 4s 46ms/step - loss: 0.0212 - accuracy: 0.9922 - val_loss: 0.2364 - val_accuracy: 0.9393\n",
            "Epoch 35/50\n",
            "77/77 [==============================] - ETA: 0s - loss: 0.0514 - accuracy: 0.9811\n",
            "Epoch 35: val_loss did not improve from 0.14406\n",
            "77/77 [==============================] - 4s 46ms/step - loss: 0.0514 - accuracy: 0.9811 - val_loss: 0.1645 - val_accuracy: 0.9525\n",
            "Epoch 36/50\n",
            "77/77 [==============================] - ETA: 0s - loss: 0.0293 - accuracy: 0.9885\n",
            "Epoch 36: val_loss did not improve from 0.14406\n",
            "77/77 [==============================] - 4s 46ms/step - loss: 0.0293 - accuracy: 0.9885 - val_loss: 0.2210 - val_accuracy: 0.9328\n",
            "Epoch 37/50\n",
            "77/77 [==============================] - ETA: 0s - loss: 0.0185 - accuracy: 0.9947\n",
            "Epoch 37: val_loss did not improve from 0.14406\n",
            "77/77 [==============================] - 4s 46ms/step - loss: 0.0185 - accuracy: 0.9947 - val_loss: 0.1601 - val_accuracy: 0.9508\n",
            "Epoch 37: early stopping\n"
          ]
        }
      ],
      "source": [
        "model = tuner.hypermodel.build(best_hps_hb)\n",
        "history = model.fit(x_train, y_train, epochs=50, validation_data=(x_test, y_test), callbacks=[monitor, checkpointer], batch_size=32)"
      ]
    },
    {
      "cell_type": "code",
      "execution_count": 90,
      "metadata": {
        "colab": {
          "base_uri": "https://localhost:8080/"
        },
        "id": "pJvNXS9CRYQD",
        "outputId": "01b8219b-e6f9-4925-ac37-d8aa0975d446"
      },
      "outputs": [
        {
          "output_type": "stream",
          "name": "stdout",
          "text": [
            "20/20 [==============================] - 0s 7ms/step\n"
          ]
        },
        {
          "output_type": "execute_result",
          "data": {
            "text/plain": [
              "array([[9.9726403e-01, 3.4620220e-04, 2.3898047e-03],\n",
              "       [7.1087085e-02, 9.2890847e-01, 4.3868208e-06],\n",
              "       [3.0349577e-03, 9.9665350e-01, 3.1152685e-04],\n",
              "       ...,\n",
              "       [9.4842130e-01, 5.1545117e-02, 3.3601580e-05],\n",
              "       [1.5406739e-16, 1.8437162e-13, 1.0000000e+00],\n",
              "       [3.9201038e-07, 9.9999845e-01, 1.2466668e-06]], dtype=float32)"
            ]
          },
          "metadata": {},
          "execution_count": 90
        }
      ],
      "source": [
        "model.load_weights(\"hb_model.hdf5\")\n",
        "pred = model.predict(x_test)\n",
        "pred"
      ]
    },
    {
      "cell_type": "code",
      "execution_count": 91,
      "metadata": {
        "colab": {
          "base_uri": "https://localhost:8080/"
        },
        "id": "Zl0bHl6hRda4",
        "outputId": "bd572475-db2f-4a97-8b80-4f23cf785a27"
      },
      "outputs": [
        {
          "output_type": "stream",
          "name": "stdout",
          "text": [
            "              precision    recall  f1-score   support\n",
            "\n",
            "           0       0.88      0.89      0.88       128\n",
            "           1       0.95      0.94      0.95       304\n",
            "           2       0.99      0.99      0.99       178\n",
            "\n",
            "    accuracy                           0.95       610\n",
            "   macro avg       0.94      0.94      0.94       610\n",
            "weighted avg       0.95      0.95      0.95       610\n",
            "\n"
          ]
        }
      ],
      "source": [
        "y_true = np.argmax(y_test, axis=1)\n",
        "pred = np.argmax(pred, axis=1)\n",
        "\n",
        "print(classification_report(y_true, pred))"
      ]
    },
    {
      "cell_type": "code",
      "source": [
        "hb_model_result = classification_report(y_true, pred, output_dict=True)"
      ],
      "metadata": {
        "id": "aq1RJk-_3E0-"
      },
      "execution_count": 92,
      "outputs": []
    },
    {
      "cell_type": "code",
      "source": [
        "training_loss = history.history['loss']\n",
        "validation_loss = history.history['val_loss']\n",
        "\n",
        "epochs = range(1, len(training_loss) + 1)\n",
        "\n",
        "plt.plot(epochs, training_loss, label='Training Loss')\n",
        "plt.plot(epochs, validation_loss, label='Validation Loss')\n",
        "\n",
        "plt.title('Training and Validation Loss - Hyperband Model')\n",
        "plt.xlabel('Epochs')\n",
        "plt.ylabel('Loss')\n",
        "\n",
        "plt.legend()\n",
        "plt.show()\n"
      ],
      "metadata": {
        "colab": {
          "base_uri": "https://localhost:8080/",
          "height": 472
        },
        "id": "X0cREP4NeQqW",
        "outputId": "84b91c90-4d10-42ee-e886-2aaa10e1be2e"
      },
      "execution_count": 93,
      "outputs": [
        {
          "output_type": "display_data",
          "data": {
            "text/plain": [
              "<Figure size 640x480 with 1 Axes>"
            ],
            "image/png": "[encoded data removed]"
          },
          "metadata": {}
        }
      ]
    },
    {
      "cell_type": "markdown",
      "metadata": {
        "id": "uDVAmJvi5_ul"
      },
      "source": [
        "## Vison Transformer (ViT) model Implementation\n",
        "\n",
        "#### This model converts the input image into 16x16 patches to be feeded to the encoder block"
      ]
    },
    {
      "cell_type": "markdown",
      "metadata": {
        "id": "aS-WT6GA5_ul"
      },
      "source": [
        "#### Convert to rgb images for vit model as it is trained predominantly on color images"
      ]
    },
    {
      "cell_type": "code",
      "execution_count": 94,
      "metadata": {
        "id": "nO8qUVay5_ul"
      },
      "outputs": [],
      "source": [
        "grayscale_tensors = tf.convert_to_tensor(image_arrays)\n",
        "rgb_images = tf.image.grayscale_to_rgb(grayscale_tensors)\n",
        "rgb_images = np.array(rgb_images).astype(np.uint8)"
      ]
    },
    {
      "cell_type": "code",
      "execution_count": 95,
      "metadata": {
        "id": "YLLY8F2C5_ul",
        "outputId": "0b8bf627-cf7a-45b6-a1da-b362cabfec0b",
        "colab": {
          "base_uri": "https://localhost:8080/"
        }
      },
      "outputs": [
        {
          "output_type": "execute_result",
          "data": {
            "text/plain": [
              "array([[[0, 0, 0],\n",
              "        [0, 0, 0],\n",
              "        [0, 0, 0],\n",
              "        ...,\n",
              "        [0, 0, 0],\n",
              "        [0, 0, 0],\n",
              "        [0, 0, 0]],\n",
              "\n",
              "       [[0, 0, 0],\n",
              "        [0, 0, 0],\n",
              "        [0, 0, 0],\n",
              "        ...,\n",
              "        [0, 0, 0],\n",
              "        [0, 0, 0],\n",
              "        [0, 0, 0]],\n",
              "\n",
              "       [[0, 0, 0],\n",
              "        [0, 0, 0],\n",
              "        [0, 0, 0],\n",
              "        ...,\n",
              "        [0, 0, 0],\n",
              "        [0, 0, 0],\n",
              "        [0, 0, 0]],\n",
              "\n",
              "       ...,\n",
              "\n",
              "       [[0, 0, 0],\n",
              "        [0, 0, 0],\n",
              "        [0, 0, 0],\n",
              "        ...,\n",
              "        [0, 0, 0],\n",
              "        [0, 0, 0],\n",
              "        [0, 0, 0]],\n",
              "\n",
              "       [[0, 0, 0],\n",
              "        [0, 0, 0],\n",
              "        [0, 0, 0],\n",
              "        ...,\n",
              "        [0, 0, 0],\n",
              "        [0, 0, 0],\n",
              "        [0, 0, 0]],\n",
              "\n",
              "       [[0, 0, 0],\n",
              "        [0, 0, 0],\n",
              "        [0, 0, 0],\n",
              "        ...,\n",
              "        [0, 0, 0],\n",
              "        [0, 0, 0],\n",
              "        [0, 0, 0]]], dtype=uint8)"
            ]
          },
          "metadata": {},
          "execution_count": 95
        }
      ],
      "source": [
        "rgb_images[0]"
      ]
    },
    {
      "cell_type": "markdown",
      "metadata": {
        "id": "NRgVfYaC5_ul"
      },
      "source": [
        "#### Split into train and test"
      ]
    },
    {
      "cell_type": "code",
      "execution_count": 96,
      "metadata": {
        "id": "fDKoPHiP5_ul"
      },
      "outputs": [],
      "source": [
        "x_train, x_test, y_train, y_test = train_test_split(rgb_images, image_classes_encoded, test_size=0.2, shuffle=True, random_state=42)"
      ]
    },
    {
      "cell_type": "markdown",
      "metadata": {
        "id": "ucQgUZ185_ul"
      },
      "source": [
        "#### Visualizing the patches for a sample image"
      ]
    },
    {
      "cell_type": "code",
      "execution_count": 97,
      "metadata": {
        "id": "y1Eiq-yy5_ul"
      },
      "outputs": [],
      "source": [
        "class Patches(L.Layer):\n",
        "    def __init__(self, patch_size):\n",
        "        super(Patches, self).__init__()\n",
        "        self.patch_size = patch_size\n",
        "\n",
        "    def call(self, images):\n",
        "        batch_size = tf.shape(images)[0]\n",
        "        patches = tf.image.extract_patches(\n",
        "            images = images,\n",
        "            sizes = [1, self.patch_size, self.patch_size, 1],\n",
        "            strides = [1, self.patch_size, self.patch_size, 1],\n",
        "            rates = [1, 1, 1, 1],\n",
        "            padding = 'VALID',\n",
        "        )\n",
        "        patch_dims = patches.shape[-1]\n",
        "        patches = tf.reshape(patches, [batch_size, -1, patch_dims])\n",
        "        return patches"
      ]
    },
    {
      "cell_type": "code",
      "execution_count": 98,
      "metadata": {
        "id": "bKHT_FS45_ul",
        "outputId": "3d97c114-4739-4085-c697-acbd64130129",
        "colab": {
          "base_uri": "https://localhost:8080/",
          "height": 398
        }
      },
      "outputs": [
        {
          "output_type": "stream",
          "name": "stdout",
          "text": [
            "Patch size: 16 X 16\n",
            "Patches per image: 256\n",
            "Elements per patch: 768\n"
          ]
        },
        {
          "output_type": "display_data",
          "data": {
            "text/plain": [
              "<Figure size 400x400 with 256 Axes>"
            ],
            "image/png": "[encoded data removed]"
          },
          "metadata": {}
        }
      ],
      "source": [
        "resized_image = tf.image.resize(\n",
        "    tf.convert_to_tensor([rgb_images[0]]), size = (image_size, image_size)\n",
        ")\n",
        "\n",
        "patches = Patches(16)(resized_image)\n",
        "\n",
        "print(f'Patch size: {16} X {16}')\n",
        "\n",
        "print(f'Patches per image: {patches.shape[1]}')\n",
        "print(f'Elements per patch: {patches.shape[-1]}')\n",
        "\n",
        "n = int(np.sqrt(patches.shape[1]))\n",
        "plt.figure(figsize=(4, 4))\n",
        "\n",
        "for i, patch in enumerate(patches[0]):\n",
        "    ax = plt.subplot(n, n, i + 1)\n",
        "    patch_img = tf.reshape(patch, (16, 16, 3))\n",
        "    plt.imshow(patch_img.numpy().astype('uint8'))\n",
        "    plt.axis('off')"
      ]
    },
    {
      "cell_type": "markdown",
      "metadata": {
        "id": "IfUBqzJ85_ul"
      },
      "source": [
        "###  Building and evaluating ViT model"
      ]
    },
    {
      "cell_type": "code",
      "execution_count": 99,
      "metadata": {
        "id": "kkViVP-t5_ul",
        "outputId": "925c78a2-3875-47d6-f6f4-4a68b96bcc13",
        "colab": {
          "base_uri": "https://localhost:8080/"
        }
      },
      "outputs": [
        {
          "output_type": "stream",
          "name": "stdout",
          "text": [
            "Collecting vit_keras\n",
            "  Downloading vit_keras-0.1.2-py3-none-any.whl (24 kB)\n",
            "Requirement already satisfied: scipy in /usr/local/lib/python3.10/dist-packages (from vit_keras) (1.11.3)\n",
            "Collecting validators (from vit_keras)\n",
            "  Downloading validators-0.22.0-py3-none-any.whl (26 kB)\n",
            "Requirement already satisfied: numpy<1.28.0,>=1.21.6 in /usr/local/lib/python3.10/dist-packages (from scipy->vit_keras) (1.23.5)\n",
            "Installing collected packages: validators, vit_keras\n",
            "Successfully installed validators-0.22.0 vit_keras-0.1.2\n"
          ]
        }
      ],
      "source": [
        "!pip install vit_keras"
      ]
    },
    {
      "cell_type": "code",
      "execution_count": 100,
      "metadata": {
        "id": "JfErnX9c5_ul",
        "outputId": "70805c16-b9be-4909-d038-adaa22d06749",
        "colab": {
          "base_uri": "https://localhost:8080/"
        }
      },
      "outputs": [
        {
          "output_type": "stream",
          "name": "stdout",
          "text": [
            "Downloading data from https://github.com/faustomorales/vit-keras/releases/download/dl/ViT-B_16_imagenet21k+imagenet2012.npz\n",
            "347502902/347502902 [==============================] - 1s 0us/step\n"
          ]
        },
        {
          "output_type": "stream",
          "name": "stderr",
          "text": [
            "/usr/local/lib/python3.10/dist-packages/vit_keras/utils.py:81: UserWarning: Resizing position embeddings from 24, 24 to 16, 16\n",
            "  warnings.warn(\n"
          ]
        },
        {
          "output_type": "stream",
          "name": "stdout",
          "text": [
            "Model: \"vit-b16\"\n",
            "_________________________________________________________________\n",
            " Layer (type)                Output Shape              Param #   \n",
            "=================================================================\n",
            " input_3 (InputLayer)        [(None, 256, 256, 3)]     0         \n",
            "                                                                 \n",
            " embedding (Conv2D)          (None, 16, 16, 768)       590592    \n",
            "                                                                 \n",
            " reshape (Reshape)           (None, 256, 768)          0         \n",
            "                                                                 \n",
            " class_token (ClassToken)    (None, 257, 768)          768       \n",
            "                                                                 \n",
            " Transformer/posembed_input  (None, 257, 768)          197376    \n",
            "  (AddPositionEmbs)                                              \n",
            "                                                                 \n",
            " Transformer/encoderblock_0  ((None, 257, 768),        7087872   \n",
            "  (TransformerBlock)          (None, 12, None, None)             \n",
            "                             )                                   \n",
            "                                                                 \n",
            " Transformer/encoderblock_1  ((None, 257, 768),        7087872   \n",
            "  (TransformerBlock)          (None, 12, None, None)             \n",
            "                             )                                   \n",
            "                                                                 \n",
            " Transformer/encoderblock_2  ((None, 257, 768),        7087872   \n",
            "  (TransformerBlock)          (None, 12, None, None)             \n",
            "                             )                                   \n",
            "                                                                 \n",
            " Transformer/encoderblock_3  ((None, 257, 768),        7087872   \n",
            "  (TransformerBlock)          (None, 12, None, None)             \n",
            "                             )                                   \n",
            "                                                                 \n",
            " Transformer/encoderblock_4  ((None, 257, 768),        7087872   \n",
            "  (TransformerBlock)          (None, 12, None, None)             \n",
            "                             )                                   \n",
            "                                                                 \n",
            " Transformer/encoderblock_5  ((None, 257, 768),        7087872   \n",
            "  (TransformerBlock)          (None, 12, None, None)             \n",
            "                             )                                   \n",
            "                                                                 \n",
            " Transformer/encoderblock_6  ((None, 257, 768),        7087872   \n",
            "  (TransformerBlock)          (None, 12, None, None)             \n",
            "                             )                                   \n",
            "                                                                 \n",
            " Transformer/encoderblock_7  ((None, 257, 768),        7087872   \n",
            "  (TransformerBlock)          (None, 12, None, None)             \n",
            "                             )                                   \n",
            "                                                                 \n",
            " Transformer/encoderblock_8  ((None, 257, 768),        7087872   \n",
            "  (TransformerBlock)          (None, 12, None, None)             \n",
            "                             )                                   \n",
            "                                                                 \n",
            " Transformer/encoderblock_9  ((None, 257, 768),        7087872   \n",
            "  (TransformerBlock)          (None, 12, None, None)             \n",
            "                             )                                   \n",
            "                                                                 \n",
            " Transformer/encoderblock_1  ((None, 257, 768),        7087872   \n",
            " 0 (TransformerBlock)         (None, 12, None, None)             \n",
            "                             )                                   \n",
            "                                                                 \n",
            " Transformer/encoderblock_1  ((None, 257, 768),        7087872   \n",
            " 1 (TransformerBlock)         (None, 12, None, None)             \n",
            "                             )                                   \n",
            "                                                                 \n",
            " Transformer/encoder_norm (  (None, 257, 768)          1536      \n",
            " LayerNormalization)                                             \n",
            "                                                                 \n",
            " ExtractToken (Lambda)       (None, 768)               0         \n",
            "                                                                 \n",
            "=================================================================\n",
            "Total params: 85844736 (327.47 MB)\n",
            "Trainable params: 85844736 (327.47 MB)\n",
            "Non-trainable params: 0 (0.00 Byte)\n",
            "_________________________________________________________________\n"
          ]
        }
      ],
      "source": [
        "from vit_keras import vit\n",
        "\n",
        "vit_model = vit.vit_b16(\n",
        "        image_size = (image_size, image_size),\n",
        "        activation = 'softmax',\n",
        "        pretrained = True,\n",
        "        include_top = False,\n",
        "        pretrained_top = False)\n",
        "\n",
        "vit_model.summary()"
      ]
    },
    {
      "cell_type": "code",
      "execution_count": 101,
      "metadata": {
        "id": "FI9sNQw55_um",
        "outputId": "7eae0387-ce27-4036-dc7c-35bfa1386b9e",
        "colab": {
          "base_uri": "https://localhost:8080/"
        }
      },
      "outputs": [
        {
          "output_type": "stream",
          "name": "stdout",
          "text": [
            "Model: \"vision_transformer\"\n",
            "_________________________________________________________________\n",
            " Layer (type)                Output Shape              Param #   \n",
            "=================================================================\n",
            " vit-b16 (Functional)        (None, 768)               85844736  \n",
            "                                                                 \n",
            " flatten_2 (Flatten)         (None, 768)               0         \n",
            "                                                                 \n",
            " batch_normalization (Batch  (None, 768)               3072      \n",
            " Normalization)                                                  \n",
            "                                                                 \n",
            " dense_4 (Dense)             (None, 128)               98432     \n",
            "                                                                 \n",
            " batch_normalization_1 (Bat  (None, 128)               512       \n",
            " chNormalization)                                                \n",
            "                                                                 \n",
            " dense_5 (Dense)             (None, 64)                8256      \n",
            "                                                                 \n",
            " dense_6 (Dense)             (None, 32)                2080      \n",
            "                                                                 \n",
            " dense_7 (Dense)             (None, 3)                 99        \n",
            "                                                                 \n",
            "=================================================================\n",
            "Total params: 85957187 (327.90 MB)\n",
            "Trainable params: 85955395 (327.89 MB)\n",
            "Non-trainable params: 1792 (7.00 KB)\n",
            "_________________________________________________________________\n"
          ]
        }
      ],
      "source": [
        "model = tf.keras.Sequential([\n",
        "        vit_model,\n",
        "        tf.keras.layers.Flatten(),\n",
        "        tf.keras.layers.BatchNormalization(),\n",
        "        tf.keras.layers.Dense(128, activation = 'relu'),\n",
        "        tf.keras.layers.BatchNormalization(),\n",
        "        tf.keras.layers.Dense(64, activation = 'relu'),\n",
        "        tf.keras.layers.Dense(32, activation = 'relu'),\n",
        "        tf.keras.layers.Dense(3, 'softmax')\n",
        "    ],\n",
        "    name = 'vision_transformer')\n",
        "\n",
        "model.summary()"
      ]
    },
    {
      "cell_type": "code",
      "execution_count": 102,
      "metadata": {
        "id": "fxzHTeM95_um"
      },
      "outputs": [],
      "source": [
        "checkpointer = ModelCheckpoint(filepath=\"vit_model.hdf5\", verbose=2, save_best_only=True, monitor='val_loss')\n",
        "monitor = EarlyStopping(monitor='val_loss', min_delta=1e-3, patience=10, verbose=2, mode='auto')"
      ]
    },
    {
      "cell_type": "code",
      "execution_count": null,
      "metadata": {
        "id": "XspPZi-FnJG9",
        "colab": {
          "base_uri": "https://localhost:8080/"
        },
        "outputId": "1c6a9c69-0e8a-453d-96bd-5fdaa1183f6b"
      },
      "outputs": [
        {
          "output_type": "stream",
          "name": "stdout",
          "text": [
            "Epoch 1/50\n",
            "77/77 [==============================] - ETA: 0s - loss: 0.9337 - accuracy: 0.6392\n",
            "Epoch 1: val_loss improved from inf to 0.75563, saving model to base_model.hdf5\n"
          ]
        },
        {
          "output_type": "stream",
          "name": "stderr",
          "text": [
            "/usr/local/lib/python3.10/dist-packages/keras/src/engine/training.py:3079: UserWarning: You are saving your model as an HDF5 file via `model.save()`. This file format is considered legacy. We recommend using instead the native Keras format, e.g. `model.save('my_model.keras')`.\n",
            "  saving_api.save_model(\n"
          ]
        },
        {
          "output_type": "stream",
          "name": "stdout",
          "text": [
            "\b\b\b\b\b\b\b\b\b\b\b\b\b\b\b\b\b\b\b\b\b\b\b\b\b\b\b\b\b\b\b\b\b\b\b\b\b\b\b\b\b\b\b\b\b\b\b\b\b\b\b\b\b\b\b\b\b\b\b\b\b\b\b\b\b\b\b\b\b\b\b\b\b\b\b\b\b\b\b\b\b\b\r77/77 [==============================] - 78s 667ms/step - loss: 0.9337 - accuracy: 0.6392 - val_loss: 0.7556 - val_accuracy: 0.8246\n",
            "Epoch 2/50\n",
            "77/77 [==============================] - ETA: 0s - loss: 0.7320 - accuracy: 0.8237\n",
            "Epoch 2: val_loss improved from 0.75563 to 0.71503, saving model to base_model.hdf5\n",
            "77/77 [==============================] - 48s 624ms/step - loss: 0.7320 - accuracy: 0.8237 - val_loss: 0.7150 - val_accuracy: 0.8377\n",
            "Epoch 3/50\n",
            "77/77 [==============================] - ETA: 0s - loss: 0.7021 - accuracy: 0.8405\n",
            "Epoch 3: val_loss improved from 0.71503 to 0.70701, saving model to base_model.hdf5\n",
            "77/77 [==============================] - 48s 626ms/step - loss: 0.7021 - accuracy: 0.8405 - val_loss: 0.7070 - val_accuracy: 0.8262\n",
            "Epoch 4/50\n",
            "77/77 [==============================] - ETA: 0s - loss: 0.6724 - accuracy: 0.8622\n",
            "Epoch 4: val_loss improved from 0.70701 to 0.67096, saving model to base_model.hdf5\n",
            "77/77 [==============================] - 48s 625ms/step - loss: 0.6724 - accuracy: 0.8622 - val_loss: 0.6710 - val_accuracy: 0.8803\n",
            "Epoch 5/50\n",
            "77/77 [==============================] - ETA: 0s - loss: 0.6633 - accuracy: 0.8729\n",
            "Epoch 5: val_loss did not improve from 0.67096\n",
            "77/77 [==============================] - 46s 598ms/step - loss: 0.6633 - accuracy: 0.8729 - val_loss: 0.7466 - val_accuracy: 0.8525\n",
            "Epoch 6/50\n",
            "77/77 [==============================] - ETA: 0s - loss: 0.6420 - accuracy: 0.8885\n",
            "Epoch 6: val_loss did not improve from 0.67096\n",
            "77/77 [==============================] - 46s 599ms/step - loss: 0.6420 - accuracy: 0.8885 - val_loss: 0.6754 - val_accuracy: 0.8672\n",
            "Epoch 7/50\n",
            "77/77 [==============================] - ETA: 0s - loss: 0.6332 - accuracy: 0.8954\n",
            "Epoch 7: val_loss improved from 0.67096 to 0.63541, saving model to base_model.hdf5\n",
            "77/77 [==============================] - 51s 658ms/step - loss: 0.6332 - accuracy: 0.8954 - val_loss: 0.6354 - val_accuracy: 0.8967\n",
            "Epoch 8/50\n",
            "77/77 [==============================] - ETA: 0s - loss: 0.6248 - accuracy: 0.8954\n",
            "Epoch 8: val_loss improved from 0.63541 to 0.61927, saving model to base_model.hdf5\n",
            "77/77 [==============================] - 51s 659ms/step - loss: 0.6248 - accuracy: 0.8954 - val_loss: 0.6193 - val_accuracy: 0.9180\n",
            "Epoch 9/50\n",
            "77/77 [==============================] - ETA: 0s - loss: 0.6279 - accuracy: 0.9016\n",
            "Epoch 9: val_loss did not improve from 0.61927\n",
            "77/77 [==============================] - 46s 599ms/step - loss: 0.6279 - accuracy: 0.9016 - val_loss: 0.7279 - val_accuracy: 0.8279\n",
            "Epoch 10/50\n",
            "77/77 [==============================] - ETA: 0s - loss: 0.6123 - accuracy: 0.9086\n",
            "Epoch 10: val_loss did not improve from 0.61927\n",
            "77/77 [==============================] - 46s 599ms/step - loss: 0.6123 - accuracy: 0.9086 - val_loss: 0.6804 - val_accuracy: 0.8721\n",
            "Epoch 11/50\n",
            "77/77 [==============================] - ETA: 0s - loss: 0.6035 - accuracy: 0.9164\n",
            "Epoch 11: val_loss did not improve from 0.61927\n",
            "77/77 [==============================] - 46s 599ms/step - loss: 0.6035 - accuracy: 0.9164 - val_loss: 0.6759 - val_accuracy: 0.8852\n",
            "Epoch 12/50\n",
            "77/77 [==============================] - ETA: 0s - loss: 0.5847 - accuracy: 0.9315\n",
            "Epoch 12: val_loss did not improve from 0.61927\n",
            "77/77 [==============================] - 46s 599ms/step - loss: 0.5847 - accuracy: 0.9315 - val_loss: 0.6218 - val_accuracy: 0.9066\n",
            "Epoch 13/50\n",
            "77/77 [==============================] - ETA: 0s - loss: 0.5758 - accuracy: 0.9405\n",
            "Epoch 13: val_loss did not improve from 0.61927\n",
            "77/77 [==============================] - 46s 599ms/step - loss: 0.5758 - accuracy: 0.9405 - val_loss: 0.7244 - val_accuracy: 0.8557\n",
            "Epoch 14/50\n",
            "77/77 [==============================] - ETA: 0s - loss: 0.5767 - accuracy: 0.9467\n",
            "Epoch 14: val_loss did not improve from 0.61927\n",
            "77/77 [==============================] - 46s 599ms/step - loss: 0.5767 - accuracy: 0.9467 - val_loss: 0.7118 - val_accuracy: 0.8721\n",
            "Epoch 15/50\n",
            "77/77 [==============================] - ETA: 0s - loss: 0.5622 - accuracy: 0.9545\n",
            "Epoch 15: val_loss did not improve from 0.61927\n",
            "77/77 [==============================] - 46s 601ms/step - loss: 0.5622 - accuracy: 0.9545 - val_loss: 0.6306 - val_accuracy: 0.8852\n",
            "Epoch 16/50\n",
            "77/77 [==============================] - ETA: 0s - loss: 0.5528 - accuracy: 0.9619\n",
            "Epoch 16: val_loss did not improve from 0.61927\n",
            "77/77 [==============================] - 46s 600ms/step - loss: 0.5528 - accuracy: 0.9619 - val_loss: 0.6854 - val_accuracy: 0.8738\n",
            "Epoch 17/50\n",
            "77/77 [==============================] - ETA: 0s - loss: 0.5479 - accuracy: 0.9656\n",
            "Epoch 17: val_loss did not improve from 0.61927\n",
            "77/77 [==============================] - 46s 599ms/step - loss: 0.5479 - accuracy: 0.9656 - val_loss: 0.6564 - val_accuracy: 0.9033\n",
            "Epoch 18/50\n",
            "77/77 [==============================] - ETA: 0s - loss: 0.5266 - accuracy: 0.9820\n",
            "Epoch 18: val_loss did not improve from 0.61927\n",
            "77/77 [==============================] - 46s 599ms/step - loss: 0.5266 - accuracy: 0.9820 - val_loss: 0.6571 - val_accuracy: 0.9164\n",
            "Epoch 19/50\n",
            "77/77 [==============================] - ETA: 0s - loss: 0.5241 - accuracy: 0.9856\n",
            "Epoch 19: val_loss did not improve from 0.61927\n",
            "77/77 [==============================] - 46s 599ms/step - loss: 0.5241 - accuracy: 0.9856 - val_loss: 0.6349 - val_accuracy: 0.9082\n",
            "Epoch 20/50\n",
            "77/77 [==============================] - ETA: 0s - loss: 0.5170 - accuracy: 0.9885\n",
            "Epoch 20: val_loss improved from 0.61927 to 0.61262, saving model to base_model.hdf5\n",
            "77/77 [==============================] - 48s 627ms/step - loss: 0.5170 - accuracy: 0.9885 - val_loss: 0.6126 - val_accuracy: 0.9180\n",
            "Epoch 21/50\n",
            "77/77 [==============================] - ETA: 0s - loss: 0.5253 - accuracy: 0.9865\n",
            "Epoch 21: val_loss improved from 0.61262 to 0.60673, saving model to base_model.hdf5\n",
            "77/77 [==============================] - 50s 645ms/step - loss: 0.5253 - accuracy: 0.9865 - val_loss: 0.6067 - val_accuracy: 0.9197\n",
            "Epoch 22/50\n",
            "77/77 [==============================] - ETA: 0s - loss: 0.5120 - accuracy: 0.9918\n",
            "Epoch 22: val_loss improved from 0.60673 to 0.60482, saving model to base_model.hdf5\n",
            "77/77 [==============================] - 48s 627ms/step - loss: 0.5120 - accuracy: 0.9918 - val_loss: 0.6048 - val_accuracy: 0.9246\n",
            "Epoch 23/50\n",
            "77/77 [==============================] - ETA: 0s - loss: 0.5082 - accuracy: 0.9951\n",
            "Epoch 23: val_loss did not improve from 0.60482\n",
            "77/77 [==============================] - 46s 599ms/step - loss: 0.5082 - accuracy: 0.9951 - val_loss: 0.6111 - val_accuracy: 0.9180\n",
            "Epoch 24/50\n",
            "77/77 [==============================] - ETA: 0s - loss: 0.5061 - accuracy: 0.9947\n",
            "Epoch 24: val_loss did not improve from 0.60482\n",
            "77/77 [==============================] - 46s 599ms/step - loss: 0.5061 - accuracy: 0.9947 - val_loss: 0.6900 - val_accuracy: 0.8803\n",
            "Epoch 25/50\n",
            "77/77 [==============================] - ETA: 0s - loss: 0.5164 - accuracy: 0.9889\n",
            "Epoch 25: val_loss did not improve from 0.60482\n",
            "77/77 [==============================] - 46s 599ms/step - loss: 0.5164 - accuracy: 0.9889 - val_loss: 0.6876 - val_accuracy: 0.8754\n",
            "Epoch 26/50\n",
            "77/77 [==============================] - ETA: 0s - loss: 0.5064 - accuracy: 0.9930\n",
            "Epoch 26: val_loss improved from 0.60482 to 0.59234, saving model to base_model.hdf5\n",
            "77/77 [==============================] - 48s 627ms/step - loss: 0.5064 - accuracy: 0.9930 - val_loss: 0.5923 - val_accuracy: 0.9295\n",
            "Epoch 27/50\n",
            "77/77 [==============================] - ETA: 0s - loss: 0.5016 - accuracy: 0.9967\n",
            "Epoch 27: val_loss did not improve from 0.59234\n",
            "77/77 [==============================] - 46s 599ms/step - loss: 0.5016 - accuracy: 0.9967 - val_loss: 0.6053 - val_accuracy: 0.9328\n",
            "Epoch 28/50\n",
            "77/77 [==============================] - ETA: 0s - loss: 0.5000 - accuracy: 0.9967\n",
            "Epoch 28: val_loss improved from 0.59234 to 0.58014, saving model to base_model.hdf5\n",
            "77/77 [==============================] - 48s 628ms/step - loss: 0.5000 - accuracy: 0.9967 - val_loss: 0.5801 - val_accuracy: 0.9361\n",
            "Epoch 29/50\n",
            "77/77 [==============================] - ETA: 0s - loss: 0.5082 - accuracy: 0.9918\n",
            "Epoch 29: val_loss improved from 0.58014 to 0.57575, saving model to base_model.hdf5\n",
            "77/77 [==============================] - 48s 627ms/step - loss: 0.5082 - accuracy: 0.9918 - val_loss: 0.5758 - val_accuracy: 0.9328\n",
            "Epoch 30/50\n",
            "77/77 [==============================] - ETA: 0s - loss: 0.5035 - accuracy: 0.9943\n",
            "Epoch 30: val_loss did not improve from 0.57575\n",
            "77/77 [==============================] - 46s 599ms/step - loss: 0.5035 - accuracy: 0.9943 - val_loss: 0.5972 - val_accuracy: 0.9197\n",
            "Epoch 31/50\n",
            "77/77 [==============================] - ETA: 0s - loss: 0.4999 - accuracy: 0.9971\n",
            "Epoch 31: val_loss did not improve from 0.57575\n",
            "77/77 [==============================] - 46s 599ms/step - loss: 0.4999 - accuracy: 0.9971 - val_loss: 0.5961 - val_accuracy: 0.9246\n",
            "Epoch 32/50\n",
            "77/77 [==============================] - ETA: 0s - loss: 0.4982 - accuracy: 0.9979\n",
            "Epoch 32: val_loss did not improve from 0.57575\n",
            "77/77 [==============================] - 46s 599ms/step - loss: 0.4982 - accuracy: 0.9979 - val_loss: 0.6042 - val_accuracy: 0.9213\n",
            "Epoch 33/50\n",
            "77/77 [==============================] - ETA: 0s - loss: 0.5191 - accuracy: 0.9832\n",
            "Epoch 33: val_loss did not improve from 0.57575\n",
            "77/77 [==============================] - 46s 599ms/step - loss: 0.5191 - accuracy: 0.9832 - val_loss: 0.7100 - val_accuracy: 0.8607\n",
            "Epoch 34/50\n",
            "77/77 [==============================] - ETA: 0s - loss: 0.5011 - accuracy: 0.9955\n",
            "Epoch 34: val_loss did not improve from 0.57575\n",
            "77/77 [==============================] - 46s 599ms/step - loss: 0.5011 - accuracy: 0.9955 - val_loss: 0.6837 - val_accuracy: 0.8787\n",
            "Epoch 35/50\n",
            "77/77 [==============================] - ETA: 0s - loss: 0.5043 - accuracy: 0.9938\n",
            "Epoch 35: val_loss did not improve from 0.57575\n",
            "77/77 [==============================] - 46s 600ms/step - loss: 0.5043 - accuracy: 0.9938 - val_loss: 0.7156 - val_accuracy: 0.8607\n",
            "Epoch 36/50\n",
            "77/77 [==============================] - ETA: 0s - loss: 0.4973 - accuracy: 0.9971\n",
            "Epoch 36: val_loss did not improve from 0.57575\n",
            "77/77 [==============================] - 46s 599ms/step - loss: 0.4973 - accuracy: 0.9971 - val_loss: 0.5924 - val_accuracy: 0.9344\n",
            "Epoch 37/50\n",
            "77/77 [==============================] - ETA: 0s - loss: 0.4922 - accuracy: 0.9996\n",
            "Epoch 37: val_loss did not improve from 0.57575\n",
            "77/77 [==============================] - 46s 599ms/step - loss: 0.4922 - accuracy: 0.9996 - val_loss: 0.6466 - val_accuracy: 0.9115\n",
            "Epoch 38/50\n",
            "77/77 [==============================] - ETA: 0s - loss: 0.4931 - accuracy: 0.9988\n",
            "Epoch 38: val_loss did not improve from 0.57575\n",
            "77/77 [==============================] - 46s 599ms/step - loss: 0.4931 - accuracy: 0.9988 - val_loss: 0.6294 - val_accuracy: 0.9148\n",
            "Epoch 39/50\n",
            "77/77 [==============================] - ETA: 0s - loss: 0.5009 - accuracy: 0.9902\n",
            "Epoch 39: val_loss did not improve from 0.57575\n",
            "77/77 [==============================] - 46s 599ms/step - loss: 0.5009 - accuracy: 0.9902 - val_loss: 0.6017 - val_accuracy: 0.9148\n",
            "Epoch 40/50\n",
            "77/77 [==============================] - ETA: 0s - loss: 0.5266 - accuracy: 0.9770\n",
            "Epoch 40: val_loss did not improve from 0.57575\n",
            "77/77 [==============================] - 46s 599ms/step - loss: 0.5266 - accuracy: 0.9770 - val_loss: 0.6061 - val_accuracy: 0.9049\n",
            "Epoch 41/50\n",
            "77/77 [==============================] - ETA: 0s - loss: 0.5100 - accuracy: 0.9885\n",
            "Epoch 41: val_loss did not improve from 0.57575\n",
            "77/77 [==============================] - 46s 599ms/step - loss: 0.5100 - accuracy: 0.9885 - val_loss: 0.6123 - val_accuracy: 0.9180\n",
            "Epoch 42/50\n",
            "77/77 [==============================] - ETA: 0s - loss: 0.4937 - accuracy: 0.9992\n",
            "Epoch 42: val_loss did not improve from 0.57575\n",
            "77/77 [==============================] - 46s 600ms/step - loss: 0.4937 - accuracy: 0.9992 - val_loss: 0.5789 - val_accuracy: 0.9344\n",
            "Epoch 43/50\n",
            "77/77 [==============================] - ETA: 0s - loss: 0.4927 - accuracy: 0.9988\n",
            "Epoch 43: val_loss did not improve from 0.57575\n",
            "77/77 [==============================] - 46s 599ms/step - loss: 0.4927 - accuracy: 0.9988 - val_loss: 0.5938 - val_accuracy: 0.9295\n",
            "Epoch 44/50\n",
            "77/77 [==============================] - ETA: 0s - loss: 0.4926 - accuracy: 0.9996Restoring model weights from the end of the best epoch: 29.\n",
            "\n",
            "Epoch 44: val_loss did not improve from 0.57575\n",
            "77/77 [==============================] - 46s 602ms/step - loss: 0.4926 - accuracy: 0.9996 - val_loss: 0.5961 - val_accuracy: 0.9230\n",
            "Epoch 44: early stopping\n"
          ]
        },
        {
          "output_type": "execute_result",
          "data": {
            "text/plain": [
              "<keras.src.callbacks.History at 0x78d7e827dd20>"
            ]
          },
          "metadata": {},
          "execution_count": 23
        }
      ],
      "source": [
        "learning_rate = 1e-4\n",
        "\n",
        "optimizer = tfa.optimizers.RectifiedAdam(learning_rate = learning_rate)\n",
        "\n",
        "model.compile(optimizer = optimizer,\n",
        "              loss = tf.keras.losses.CategoricalCrossentropy(label_smoothing = 0.2),\n",
        "              metrics = ['accuracy'])\n",
        "\n",
        "\n",
        "early_stopping_callbacks = tf.keras.callbacks.EarlyStopping(patience = 15, restore_best_weights = True, verbose = 1)\n",
        "checkpointer = ModelCheckpoint(filepath=\"vit_model.hdf5\", verbose=2, save_best_only=True, monitor='val_loss')\n",
        "model.fit(x_train, y_train,\n",
        "          validation_data = (x_test, y_test),\n",
        "          epochs = 50,\n",
        "          callbacks = [early_stopping_callbacks, checkpointer])"
      ]
    },
    {
      "cell_type": "code",
      "source": [
        "model.load_weights('vit_model.hdf5')\n",
        "pred = model.predict(x_test)"
      ],
      "metadata": {
        "colab": {
          "base_uri": "https://localhost:8080/"
        },
        "id": "Vk7arDdRGY1r",
        "outputId": "c0dba5fa-50ba-49d6-c2d1-44f6e32b6e86"
      },
      "execution_count": null,
      "outputs": [
        {
          "output_type": "stream",
          "name": "stdout",
          "text": [
            "20/20 [==============================] - 4s 175ms/step\n"
          ]
        }
      ]
    },
    {
      "cell_type": "code",
      "source": [
        "y_true = np.argmax(y_test, axis=1)\n",
        "pred = np.argmax(pred, axis=1)\n",
        "\n",
        "print(classification_report(y_true, pred))"
      ],
      "metadata": {
        "colab": {
          "base_uri": "https://localhost:8080/"
        },
        "id": "mcRAriUkGg7T",
        "outputId": "d9daf281-10df-413d-a397-c0bb75eade19"
      },
      "execution_count": null,
      "outputs": [
        {
          "output_type": "stream",
          "name": "stdout",
          "text": [
            "              precision    recall  f1-score   support\n",
            "\n",
            "           0       0.83      0.88      0.85       128\n",
            "           1       0.96      0.93      0.94       304\n",
            "           2       0.97      0.98      0.97       178\n",
            "\n",
            "    accuracy                           0.93       610\n",
            "   macro avg       0.92      0.93      0.92       610\n",
            "weighted avg       0.93      0.93      0.93       610\n",
            "\n"
          ]
        }
      ]
    }
  ],
  "metadata": {
    "colab": {
      "provenance": [],
      "machine_shape": "hm",
      "gpuType": "V100"
    },
    "kernelspec": {
      "display_name": "Python 3",
      "name": "python3"
    },
    "language_info": {
      "name": "python"
    },
    "accelerator": "GPU"
  },
  "nbformat": 4,
  "nbformat_minor": 0
}