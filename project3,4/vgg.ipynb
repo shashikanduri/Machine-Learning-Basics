{
 "cells": [
  {
   "cell_type": "markdown",
   "metadata": {},
   "source": [
    "## VGG"
   ]
  },
  {
   "cell_type": "code",
   "execution_count": null,
   "metadata": {},
   "outputs": [],
   "source": [
    "from tensorflow.keras.applications.vgg16 import VGG16\n",
    "from tensorflow.keras.applications.vgg16 import preprocess_input\n",
    "\n",
    "# Loading VGG16 model\n",
    "\n",
    "base_model = VGG16(weights=\"imagenet\", include_top=False, input_tensor=input2)\n",
    "base_model.trainable = False\n",
    "\n",
    "vgg_model = Sequential()\n",
    "\n",
    "for x in base_model.layers[:4]:\n",
    "    vgg_model.add(x)\n",
    "\n",
    "vgg_last = vgg_model.layers[-1].output\n",
    "conv1 = Conv2D(100, (4, 4), activation='relu')(vgg_last)\n",
    "pool1 = MaxPooling2D((2, 2), padding='same')(conv1)\n",
    "conv2 = Conv2D(64, (2, 2), activation='relu')(pool1)\n",
    "pool2 = MaxPooling2D((2, 2), padding='same')(conv2)\n",
    "\n",
    "vgg_output_reshaped = tf.keras.layers.Reshape((-1, 64), name='layer_taken_out_for_attentions')(pool2)\n",
    "\n",
    "sample_model = Model(inputs = vgg_model.layers[0].output, outputs=vgg_output_reshaped)\n",
    "\n",
    "sample_model.summary()"
   ]
  },
  {
   "cell_type": "markdown",
   "metadata": {},
   "source": [
    "## Building cross attention layer model"
   ]
  },
  {
   "cell_type": "code",
   "execution_count": null,
   "metadata": {},
   "outputs": [],
   "source": [
    "\n",
    "cross_attention_layer = MultiHeadAttention(key_dim=64, num_heads=8)(vgg_output_reshaped, lstm_layer2)\n",
    "\n",
    "pool = layers.GlobalAveragePooling1D()(cross_attention_layer)\n",
    "\n",
    "out1 = layers.LayerNormalization(epsilon=1e-6)(pool)\n",
    "\n",
    "ffn_output = Sequential(\n",
    "            [layers.Dense(64, activation=\"relu\"), layers.Dense(32)]\n",
    "        )(out1)\n",
    "\n",
    "out2 = layers.LayerNormalization(epsilon=1e-6)(ffn_output)\n",
    "\n",
    "final = Dense(1, activation='sigmoid')(out2)\n",
    "\n",
    "cross_model = Model(inputs = [input1, input2], outputs = final)\n",
    "cross_model.summary()"
   ]
  },
  {
   "cell_type": "code",
   "execution_count": null,
   "metadata": {},
   "outputs": [],
   "source": [
    "checkpointer = ModelCheckpoint(filepath=\"cross_attention_model_vgg.hdf5\", verbose=2, save_best_only=True, monitor='val_loss')\n",
    "monitor = EarlyStopping(monitor='val_loss', min_delta=1e-3, patience=5, verbose=2, mode='auto')\n",
    "\n",
    "cross_model.compile(optimizer=\"adam\", loss=\"binary_crossentropy\", metrics=['accuracy'])\n",
    "\n",
    "cross_model.fit([text_train, image_data_train], y_train, epochs=50, callbacks=[monitor, checkpointer],\n",
    "            validation_data=([text_validate, image_data_validate], y_validate))"
   ]
  },
  {
   "cell_type": "code",
   "execution_count": null,
   "metadata": {},
   "outputs": [],
   "source": [
    "cross_model.load_weights(\"cross_attention_model_vgg.hdf5\")\n",
    "pred = cross_model.predict([text_test, image_data_test])\n",
    "\n",
    "pred = (pred > 0.5)"
   ]
  },
  {
   "cell_type": "markdown",
   "metadata": {},
   "source": [
    "### Results"
   ]
  },
  {
   "cell_type": "code",
   "execution_count": null,
   "metadata": {},
   "outputs": [],
   "source": [
    "print(classification_report(y_test, pred))"
   ]
  }
 ],
 "metadata": {
  "language_info": {
   "name": "python"
  }
 },
 "nbformat": 4,
 "nbformat_minor": 2
}
